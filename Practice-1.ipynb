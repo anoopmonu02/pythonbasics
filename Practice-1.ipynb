{
 "cells": [
  {
   "cell_type": "markdown",
   "metadata": {},
   "source": [
    "#Write a Python program to sum all the items in a list."
   ]
  },
  {
   "cell_type": "code",
   "execution_count": 1,
   "metadata": {},
   "outputs": [
    {
     "name": "stdout",
     "output_type": "stream",
     "text": [
      "50\n"
     ]
    }
   ],
   "source": [
    "def sum_list(items):\n",
    "    sum_num = 0\n",
    "    for x in items:\n",
    "        sum_num+=x\n",
    "    return sum_num\n",
    "lst = [100,20,-50,10,-30]\n",
    "print(sum_list(lst))"
   ]
  },
  {
   "cell_type": "markdown",
   "metadata": {},
   "source": [
    "#Write a Python program to count the number of strings where the string length is 2 or more"
   ]
  },
  {
   "cell_type": "code",
   "execution_count": 2,
   "metadata": {},
   "outputs": [
    {
     "name": "stdout",
     "output_type": "stream",
     "text": [
      "3\n"
     ]
    }
   ],
   "source": [
    "def count_word(words):\n",
    "    wordCounter = 0\n",
    "    for i in words:\n",
    "        if len(i)>=2:\n",
    "           wordCounter+=1; \n",
    "    return wordCounter\n",
    "wordList = ['df','fded','a','tred','b','c']\n",
    "print(count_word(wordList))"
   ]
  },
  {
   "cell_type": "markdown",
   "metadata": {},
   "source": [
    "#Write a Python program to count the number of strings where the string length is 2 or more and the first and last character are same from a given list of strings."
   ]
  },
  {
   "cell_type": "code",
   "execution_count": 3,
   "metadata": {},
   "outputs": [
    {
     "name": "stdout",
     "output_type": "stream",
     "text": [
      "1\n"
     ]
    }
   ],
   "source": [
    "def count_word(words):\n",
    "    wordCounter = 0\n",
    "    for i in words:\n",
    "        if len(i)>=2 and i[0]==i[-1]:\n",
    "           wordCounter+=1; \n",
    "    return wordCounter\n",
    "wordList = ['df','fded','a','tred','b','c','bob']\n",
    "print(count_word(wordList))"
   ]
  },
  {
   "cell_type": "markdown",
   "metadata": {},
   "source": [
    "#Write a Python program to remove duplicates from a list."
   ]
  },
  {
   "cell_type": "code",
   "execution_count": 4,
   "metadata": {},
   "outputs": [
    {
     "name": "stdout",
     "output_type": "stream",
     "text": [
      "[10, 20, 1, 4, 5, 50, 67]\n"
     ]
    }
   ],
   "source": [
    "def remove_dup(items):\n",
    "    finalList = []\n",
    "    for item in items:\n",
    "        if item not in finalList:\n",
    "            finalList.append(item)\n",
    "    return finalList\n",
    "lst = [10,20,1,4,10,5,50,67]\n",
    "print(remove_dup(lst))"
   ]
  },
  {
   "cell_type": "code",
   "execution_count": null,
   "metadata": {},
   "outputs": [],
   "source": []
  }
 ],
 "metadata": {
  "kernelspec": {
   "display_name": "Python 3",
   "language": "python",
   "name": "python3"
  },
  "language_info": {
   "codemirror_mode": {
    "name": "ipython",
    "version": 3
   },
   "file_extension": ".py",
   "mimetype": "text/x-python",
   "name": "python",
   "nbconvert_exporter": "python",
   "pygments_lexer": "ipython3",
   "version": "3.8.5"
  }
 },
 "nbformat": 4,
 "nbformat_minor": 4
}
