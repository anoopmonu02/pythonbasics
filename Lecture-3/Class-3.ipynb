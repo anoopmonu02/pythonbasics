{
 "cells": [
  {
   "cell_type": "markdown",
   "metadata": {},
   "source": [
    "###This is Lecture - 3"
   ]
  },
  {
   "cell_type": "markdown",
   "metadata": {},
   "source": [
    "Complex"
   ]
  },
  {
   "cell_type": "code",
   "execution_count": 1,
   "metadata": {},
   "outputs": [
    {
     "data": {
      "text/plain": [
       "(1-2j)"
      ]
     },
     "execution_count": 1,
     "metadata": {},
     "output_type": "execute_result"
    }
   ],
   "source": [
    "j = 1.0 - 2.0j\n",
    "j"
   ]
  },
  {
   "cell_type": "markdown",
   "metadata": {},
   "source": [
    "-- Need to check input method -- After Class"
   ]
  },
  {
   "cell_type": "code",
   "execution_count": 2,
   "metadata": {},
   "outputs": [
    {
     "data": {
      "text/plain": [
       "['A', 'n', 'o', 'o', 'p']"
      ]
     },
     "execution_count": 2,
     "metadata": {},
     "output_type": "execute_result"
    }
   ],
   "source": [
    "ls1 = list(\"Anoop\")\n",
    "ls1"
   ]
  },
  {
   "cell_type": "code",
   "execution_count": 3,
   "metadata": {},
   "outputs": [
    {
     "data": {
      "text/plain": [
       "['a', 'b', 'c', 'd', 'e', 'f']"
      ]
     },
     "execution_count": 3,
     "metadata": {},
     "output_type": "execute_result"
    }
   ],
   "source": [
    "l = ['a','b','c','d','e','f']\n",
    "l"
   ]
  },
  {
   "cell_type": "code",
   "execution_count": 4,
   "metadata": {},
   "outputs": [],
   "source": [
    "l = [1,2,3,4,5,6,7,8]"
   ]
  },
  {
   "cell_type": "code",
   "execution_count": 6,
   "metadata": {},
   "outputs": [
    {
     "name": "stdout",
     "output_type": "stream",
     "text": [
      "Even:  20  Odd  16\n"
     ]
    }
   ],
   "source": [
    "# For else loop - Sum of odd-even numbers from given list\n",
    "ev1 = 0\n",
    "od1 = 0\n",
    "for i in l:\n",
    "    if(i%2==0):\n",
    "        ev1+=i\n",
    "    else:\n",
    "        od1+=i\n",
    "print(\"Even: \",ev1,\" Odd \",od1)"
   ]
  },
  {
   "cell_type": "code",
   "execution_count": 2,
   "metadata": {},
   "outputs": [
    {
     "name": "stdout",
     "output_type": "stream",
     "text": [
      "After Loop - Even Sum: 20 and Odd Sum: 25\n"
     ]
    }
   ],
   "source": [
    "# For else loop\n",
    "lst=[1,2,3,4,5,6,7,8,9,10]\n",
    "od1=0\n",
    "ev1=0\n",
    "for i in lst:\n",
    "    if(i%2==0):\n",
    "        ev1+=i\n",
    "        if(ev1>20):\n",
    "            break\n",
    "    else:\n",
    "        od1+=i\n",
    "        if(od1>20):\n",
    "            break\n",
    "else:\n",
    "    print(ev1)\n",
    "    print(od1)\n",
    "print(\"After Loop - Even Sum: {} and Odd Sum: {}\".format(ev1,od1))"
   ]
  },
  {
   "cell_type": "code",
   "execution_count": 3,
   "metadata": {},
   "outputs": [
    {
     "name": "stdout",
     "output_type": "stream",
     "text": [
      "30\n",
      "25\n"
     ]
    }
   ],
   "source": [
    "# First 10 Digit even-odd numbers sum using while loop\n",
    "n=10\n",
    "od1=0\n",
    "ev1=0\n",
    "i=1\n",
    "while i<=n:\n",
    "    if(i%2==0):\n",
    "        ev1+=i\n",
    "    else:\n",
    "        od1+=i\n",
    "    i=i+1\n",
    "print(ev1)\n",
    "print(od1)"
   ]
  },
  {
   "cell_type": "markdown",
   "metadata": {},
   "source": [
    "#Break & Continue "
   ]
  },
  {
   "cell_type": "code",
   "execution_count": 3,
   "metadata": {},
   "outputs": [
    {
     "name": "stdout",
     "output_type": "stream",
     "text": [
      "A\n",
      "n\n",
      "o\n",
      "o\n",
      "p\n",
      "K\n",
      "u\n",
      "m\n",
      "a\n",
      "r\n"
     ]
    }
   ],
   "source": [
    "Str1 = \"Anoop Kumar\"\n",
    "for i in Str1:\n",
    "    if(i==' '):\n",
    "        continue\n",
    "    print(i)"
   ]
  },
  {
   "cell_type": "code",
   "execution_count": null,
   "metadata": {},
   "outputs": [],
   "source": []
  }
 ],
 "metadata": {
  "kernelspec": {
   "display_name": "Python 3",
   "language": "python",
   "name": "python3"
  },
  "language_info": {
   "codemirror_mode": {
    "name": "ipython",
    "version": 3
   },
   "file_extension": ".py",
   "mimetype": "text/x-python",
   "name": "python",
   "nbconvert_exporter": "python",
   "pygments_lexer": "ipython3",
   "version": "3.8.5"
  }
 },
 "nbformat": 4,
 "nbformat_minor": 4
}
