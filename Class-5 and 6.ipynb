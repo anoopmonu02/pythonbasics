{
 "cells": [
  {
   "cell_type": "code",
   "execution_count": 1,
   "metadata": {},
   "outputs": [
    {
     "data": {
      "text/plain": [
       "7"
      ]
     },
     "execution_count": 1,
     "metadata": {},
     "output_type": "execute_result"
    }
   ],
   "source": [
    "def calculate(var1, var2, operation):\n",
    "    if operation == '+':\n",
    "        return var1+var2\n",
    "    elif operation == '-':\n",
    "        return var1-var2\n",
    "    elif operation == '/':\n",
    "        return var1/var2\n",
    "    else:\n",
    "        return var1*var2\n",
    "calculate(5,2,'+')"
   ]
  },
  {
   "cell_type": "code",
   "execution_count": 7,
   "metadata": {},
   "outputs": [
    {
     "name": "stdout",
     "output_type": "stream",
     "text": [
      "25\n",
      "6\n"
     ]
    }
   ],
   "source": [
    "#Method Overloading(Keyword Argument)\n",
    "def calculate(var1, var2, operation='+'):\n",
    "    if operation == '+':\n",
    "        return var1+var2\n",
    "    elif operation == '-':\n",
    "        return var1-var2\n",
    "    elif operation == '/':\n",
    "        return var1/var2\n",
    "    else:\n",
    "        return var1*var2\n",
    "print(calculate(5,5,'*'))\n",
    "print(calculate(3,3))"
   ]
  },
  {
   "cell_type": "markdown",
   "metadata": {},
   "source": [
    "## OOPS"
   ]
  },
  {
   "cell_type": "markdown",
   "metadata": {},
   "source": [
    "1.Abstration\n",
    "2.Inharitance\n",
    "3.Encapsulation\n",
    "4.Polymorphisim"
   ]
  },
  {
   "cell_type": "code",
   "execution_count": 2,
   "metadata": {},
   "outputs": [
    {
     "name": "stdout",
     "output_type": "stream",
     "text": [
      "Anoop was born in 1982\n",
      "38\n"
     ]
    }
   ],
   "source": [
    "class Person:\n",
    "    def __init__(self, name, byear):\n",
    "        self.name = name\n",
    "        self.byear = byear\n",
    "        \n",
    "    def age(self, currentyear):\n",
    "        return currentyear - self.byear\n",
    "    \n",
    "    def __str__(self):\n",
    "        return \"%s was born in %d\" %(self.name, self.byear)\n",
    "    \n",
    "alec = Person(\"Anoop\",1982)\n",
    "print(alec)\n",
    "print(alec.age(2020))"
   ]
  },
  {
   "cell_type": "code",
   "execution_count": 16,
   "metadata": {},
   "outputs": [
    {
     "name": "stdout",
     "output_type": "stream",
     "text": [
      "1\n",
      "<class '__main__.Student'>\n",
      "True\n",
      "True\n",
      "Anoop Kr was born in 1982 And id is 1\n",
      "38\n",
      "MJ\n"
     ]
    }
   ],
   "source": [
    "#Inharitance\n",
    "class Student(Person):\n",
    "    name=''\n",
    "    ag=0\n",
    "    def __init__(self, stuid, *args):\n",
    "        super(Student, self).__init__(*args)\n",
    "        self._stuid = stuid\n",
    "    def __str__(self):\n",
    "        return super(Student, self).__str__() + \" And id is %d\" % self._stuid\n",
    "    def setName(self, nm):\n",
    "        name=nm\n",
    "        print(name)\n",
    "ak = Student(1, \"Anoop Kr\", 1982)\n",
    "print(ak._stuid)\n",
    "print(type(ak))\n",
    "print(isinstance(ak, Person))\n",
    "print(isinstance(ak, object))\n",
    "print(ak)\n",
    "print(ak.age(2020))\n",
    "ak.setName('MJ')"
   ]
  },
  {
   "cell_type": "code",
   "execution_count": null,
   "metadata": {},
   "outputs": [],
   "source": []
  }
 ],
 "metadata": {
  "kernelspec": {
   "display_name": "Python 3",
   "language": "python",
   "name": "python3"
  },
  "language_info": {
   "codemirror_mode": {
    "name": "ipython",
    "version": 3
   },
   "file_extension": ".py",
   "mimetype": "text/x-python",
   "name": "python",
   "nbconvert_exporter": "python",
   "pygments_lexer": "ipython3",
   "version": "3.8.5"
  }
 },
 "nbformat": 4,
 "nbformat_minor": 4
}
