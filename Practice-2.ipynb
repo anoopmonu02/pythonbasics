{
 "cells": [
  {
   "cell_type": "code",
   "execution_count": 11,
   "metadata": {},
   "outputs": [
    {
     "name": "stdout",
     "output_type": "stream",
     "text": [
      "False\n"
     ]
    },
    {
     "data": {
      "text/plain": [
       "[1, 2, 3, 4]"
      ]
     },
     "execution_count": 11,
     "metadata": {},
     "output_type": "execute_result"
    }
   ],
   "source": [
    "lst=[1,2,3,4]\n",
    "print(not lst)\n",
    "lst"
   ]
  },
  {
   "cell_type": "code",
   "execution_count": 15,
   "metadata": {},
   "outputs": [
    {
     "name": "stdout",
     "output_type": "stream",
     "text": [
      "True\n",
      "False\n"
     ]
    }
   ],
   "source": [
    "my_list1 = [{},{},{}]\n",
    "my_list2 = [{123,2345},{},{}]\n",
    "print(all(not d for d in my_list1))\n",
    "print(all(not d for d in my_list2))"
   ]
  },
  {
   "cell_type": "markdown",
   "metadata": {},
   "source": [
    "## Write a Python program to remove duplicates from a list of lists."
   ]
  },
  {
   "cell_type": "code",
   "execution_count": 13,
   "metadata": {},
   "outputs": [
    {
     "name": "stdout",
     "output_type": "stream",
     "text": [
      "Ori List [[110, 120], [240], [330, 456, 425], [310, 220], [133], [240]]\n",
      "New List [[110, 120], [240], [330, 456, 425], [310, 220], [133], [240]]\n"
     ]
    }
   ],
   "source": [
    "#Need to check\n",
    "import itertools\n",
    "num = [[110, 120], [240], [330, 456, 425], [310, 220], [133], [240]]\n",
    "print(\"Ori List\", num)\n",
    "new_num = list(num for num,_ in itertools.groupby(num))\n",
    "print(\"New List\", new_num)"
   ]
  },
  {
   "cell_type": "markdown",
   "metadata": {},
   "source": [
    "# Write a Python program to extend a list without append."
   ]
  },
  {
   "cell_type": "code",
   "execution_count": 17,
   "metadata": {},
   "outputs": [
    {
     "name": "stdout",
     "output_type": "stream",
     "text": [
      "[403, 503, 603, 103, 320, 430]\n"
     ]
    }
   ],
   "source": [
    "x = [103, 320, 430]\n",
    "y = [403, 503, 603]\n",
    "x[:0] = y\n",
    "print(x)"
   ]
  },
  {
   "cell_type": "markdown",
   "metadata": {},
   "source": [
    "# Write a Python program to find the list in a list of lists whose sum of elements is the highest"
   ]
  },
  {
   "cell_type": "code",
   "execution_count": 19,
   "metadata": {},
   "outputs": [
    {
     "name": "stdout",
     "output_type": "stream",
     "text": [
      "[20, 20, 20]\n"
     ]
    }
   ],
   "source": [
    "num = [[1,2,3], [4,5,6], [10,11,12], [7,8,9],[20,20,20]]\n",
    "print(max(num, key=sum))"
   ]
  },
  {
   "cell_type": "code",
   "execution_count": 20,
   "metadata": {},
   "outputs": [
    {
     "data": {
      "text/plain": [
       "[[1, 2, 3], [4, 5, 6], [10, 11, 12], [7, 8, 9], [20, 20, 20]]"
      ]
     },
     "execution_count": 20,
     "metadata": {},
     "output_type": "execute_result"
    }
   ],
   "source": [
    "list(d for d in num)"
   ]
  },
  {
   "cell_type": "code",
   "execution_count": 28,
   "metadata": {},
   "outputs": [
    {
     "name": "stdout",
     "output_type": "stream",
     "text": [
      "100\n",
      "[100]\n"
     ]
    }
   ],
   "source": [
    "from functools import reduce\n",
    "s = [[1,3,5],[2,4,0],[1,6,0],[1,5,2],[8,9,1,5],[100]]\n",
    "t = []\n",
    "for i in range(len(s)):\n",
    "    t.append(reduce(lambda x,y:x+y,s[i]))\n",
    "    \n",
    "max_Val = reduce(lambda x,y:x if(x>y) else y,t)\n",
    "print(max_Val)\n",
    "print(s[t.index(max_Val)])"
   ]
  },
  {
   "cell_type": "code",
   "execution_count": 41,
   "metadata": {},
   "outputs": [
    {
     "name": "stdout",
     "output_type": "stream",
     "text": [
      "stats\n",
      "['stats', 'math', 'algorithm']\n",
      "['stats', 'math', 'algorithm']\n",
      "<generator object <genexpr> at 0x000001A9198535F0>\n"
     ]
    },
    {
     "data": {
      "text/plain": [
       "dict_keys(['stats', 'math', 'algorithm'])"
      ]
     },
     "execution_count": 41,
     "metadata": {},
     "output_type": "execute_result"
    }
   ],
   "source": [
    "#Write a Python program to access dictionary key’s element by index.\n",
    "num = {'stats': 80, 'math': 90, 'algorithm': 86}\n",
    "print(list(num)[0])\n",
    "print(list(d for d in num))\n",
    "print(list(num.keys()))\n",
    "print(d for d in list(num.items()))\n",
    "num.keys()\n"
   ]
  },
  {
   "cell_type": "code",
   "execution_count": 44,
   "metadata": {},
   "outputs": [
    {
     "name": "stdout",
     "output_type": "stream",
     "text": [
      "1 Red\n",
      "2 Blue\n",
      "3 Green\n",
      "4 Yellow\n"
     ]
    }
   ],
   "source": [
    "#Write a Python program to iterate over two lists simultaneously.\n",
    "num = [1,2,3,4]\n",
    "lst = ['Red','Blue','Green','Yellow']\n",
    "for (a,b) in zip(num, lst):\n",
    "    print(a,b)"
   ]
  },
  {
   "cell_type": "code",
   "execution_count": 45,
   "metadata": {},
   "outputs": [
    {
     "name": "stdout",
     "output_type": "stream",
     "text": [
      "['customer100', 'customer123', 'customer345', 'customer567', 'customer789', 'customer890', 'customer98', 'customer876', 'customer543', 'customer678']\n"
     ]
    }
   ],
   "source": [
    "#write a program to inser a string at the begining of every elements in a list\n",
    "a = [100,123,345,567,789,890,98,876,543,678]\n",
    "#enter customer before each element\n",
    "print(['customer{0}'.format(i) for i in a])"
   ]
  },
  {
   "cell_type": "code",
   "execution_count": 55,
   "metadata": {},
   "outputs": [
    {
     "name": "stdout",
     "output_type": "stream",
     "text": [
      "True\n",
      "None\n"
     ]
    }
   ],
   "source": [
    "# write a program to take two lists and print if they have at least one common member\n",
    "def common_data(list1, list2):\n",
    "    result = False\n",
    "    for x in list1:\n",
    "        for y in list2:\n",
    "            if x == y:\n",
    "                result = True\n",
    "                return result\n",
    "\n",
    "print(common_data([121,222,332,432,125], [125,236,457,678,779]))\n",
    "print(common_data([1,2,3,4,5], [6,7,8,9]))"
   ]
  },
  {
   "cell_type": "code",
   "execution_count": 57,
   "metadata": {},
   "outputs": [
    {
     "name": "stdout",
     "output_type": "stream",
     "text": [
      "[(12, 22, 23, 21), (12, 22, 21, 23), (12, 23, 22, 21), (12, 23, 21, 22), (12, 21, 22, 23), (12, 21, 23, 22), (22, 12, 23, 21), (22, 12, 21, 23), (22, 23, 12, 21), (22, 23, 21, 12), (22, 21, 12, 23), (22, 21, 23, 12), (23, 12, 22, 21), (23, 12, 21, 22), (23, 22, 12, 21), (23, 22, 21, 12), (23, 21, 12, 22), (23, 21, 22, 12), (21, 12, 22, 23), (21, 12, 23, 22), (21, 22, 12, 23), (21, 22, 23, 12), (21, 23, 12, 22), (21, 23, 22, 12)]\n"
     ]
    }
   ],
   "source": [
    "# compute all permutations in a list\n",
    "import itertools\n",
    "print(list(itertools.permutations([12,22,23,21])))"
   ]
  },
  {
   "cell_type": "code",
   "execution_count": null,
   "metadata": {},
   "outputs": [],
   "source": []
  }
 ],
 "metadata": {
  "kernelspec": {
   "display_name": "Python 3",
   "language": "python",
   "name": "python3"
  },
  "language_info": {
   "codemirror_mode": {
    "name": "ipython",
    "version": 3
   },
   "file_extension": ".py",
   "mimetype": "text/x-python",
   "name": "python",
   "nbconvert_exporter": "python",
   "pygments_lexer": "ipython3",
   "version": "3.8.5"
  }
 },
 "nbformat": 4,
 "nbformat_minor": 4
}
