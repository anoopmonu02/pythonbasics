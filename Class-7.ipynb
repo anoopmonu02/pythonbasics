{
 "cells": [
  {
   "cell_type": "code",
   "execution_count": null,
   "metadata": {},
   "outputs": [],
   "source": []
  },
  {
   "cell_type": "code",
   "execution_count": 6,
   "metadata": {},
   "outputs": [
    {
     "name": "stdout",
     "output_type": "stream",
     "text": [
      "How Many student are in school?1\n",
      "Please Enter your school name?Ineuron\n",
      "Please Enter your name?Anoop Kr Chaudhary\n",
      "Please Enter your surname?\n",
      "Please Enter your Bith Year?2020\n",
      "Please Enter your Class?a\n",
      "Name\tSurname\tDate\tClass\tSchool\n",
      "Anoop Kr Chaudhary\t\t2020\ta\tIneuron\n"
     ]
    }
   ],
   "source": [
    "class Student:\n",
    "    def __init__(self, name, surname, birthyear, classname):\n",
    "        self.name = name\n",
    "        self.surname = surname\n",
    "        self.birthyear = birthyear\n",
    "        self.classname = classname\n",
    "    def __str__(self):\n",
    "        #print(\"Student Name is:  \".format(self.name))\n",
    "        pass\n",
    "class School(Student):\n",
    "    def __init__(self, schoolname, *args):\n",
    "        super().__init__(*args)\n",
    "        self.schoolname = schoolname\n",
    "        \n",
    "    def __str__(self):\n",
    "        return self.name + \"\\t\" + self.surname + \"\\t\"+ self.birthyear + \"\\t\" + self.classname + \"\\t\" + self.schoolname\n",
    "        \n",
    "counter = int(input(\"How Many student are in school?\"))\n",
    "co = 1\n",
    "lst = []\n",
    "while co <= counter:\n",
    "    co+=1\n",
    "    schoolName = input(\"Please Enter your school name?\")\n",
    "    stuName = input(\"Please Enter your name?\")\n",
    "    surname = input(\"Please Enter your surname?\")\n",
    "    birthyear = input(\"Please Enter your Bith Year?\")\n",
    "    cls = input(\"Please Enter your Class?\")\n",
    "    schoolObj = School(schoolName, stuName, surname, birthyear, cls)\n",
    "    lst.append(schoolObj)\n",
    "print(\"Name\\tSurname\\tDate\\tClass\\tSchool\")\n",
    "for i in lst:\n",
    "    print(i)"
   ]
  },
  {
   "cell_type": "code",
   "execution_count": 8,
   "metadata": {},
   "outputs": [
    {
     "name": "stdout",
     "output_type": "stream",
     "text": [
      "Writing Desktop/anoop_kr_chaudhary.txt\n"
     ]
    }
   ],
   "source": [
    "#Any path can use to write file\n",
    "%%writefile Desktop/anoop_kr_chaudhary.txt\n",
    "adhgjkadfjkldfgj sdhfjhsdfkj sdfkjsdfksfjskdf\n"
   ]
  },
  {
   "cell_type": "code",
   "execution_count": 10,
   "metadata": {},
   "outputs": [
    {
     "data": {
      "text/plain": [
       "'C:\\\\Users\\\\anoop'"
      ]
     },
     "execution_count": 10,
     "metadata": {},
     "output_type": "execute_result"
    }
   ],
   "source": [
    "pwd"
   ]
  },
  {
   "cell_type": "code",
   "execution_count": 11,
   "metadata": {},
   "outputs": [
    {
     "data": {
      "text/plain": [
       "'adhgjkadfjkldfgj sdhfjhsdfkj sdfkjsdfksfjskdf\\n'"
      ]
     },
     "execution_count": 11,
     "metadata": {},
     "output_type": "execute_result"
    }
   ],
   "source": [
    "myfile = open('anoop_kr_chaudhary.txt')\n",
    "myfile.read()"
   ]
  },
  {
   "cell_type": "code",
   "execution_count": 17,
   "metadata": {},
   "outputs": [
    {
     "data": {
      "text/plain": [
       "20"
      ]
     },
     "execution_count": 17,
     "metadata": {},
     "output_type": "execute_result"
    }
   ],
   "source": [
    "#Read back again or move the cursor to the given. initally 0 start with 0 position\n",
    "myfile.seek(20)"
   ]
  },
  {
   "cell_type": "code",
   "execution_count": 18,
   "metadata": {},
   "outputs": [
    {
     "data": {
      "text/plain": [
       "'fjhsdfkj sdfkjsdfksfjskdf\\n'"
      ]
     },
     "execution_count": 18,
     "metadata": {},
     "output_type": "execute_result"
    }
   ],
   "source": [
    "myfile.read()"
   ]
  },
  {
   "cell_type": "code",
   "execution_count": 19,
   "metadata": {},
   "outputs": [
    {
     "data": {
      "text/plain": [
       "0"
      ]
     },
     "execution_count": 19,
     "metadata": {},
     "output_type": "execute_result"
    }
   ],
   "source": [
    "myfile.seek(0)"
   ]
  },
  {
   "cell_type": "code",
   "execution_count": 20,
   "metadata": {},
   "outputs": [
    {
     "data": {
      "text/plain": [
       "'adhgjkadfjkldfgj sdhfjhsdfkj sdfkjsdfksfjskdf\\n'"
      ]
     },
     "execution_count": 20,
     "metadata": {},
     "output_type": "execute_result"
    }
   ],
   "source": [
    "myfile.read()"
   ]
  },
  {
   "cell_type": "markdown",
   "metadata": {},
   "source": [
    "# Mode w/r/a"
   ]
  },
  {
   "cell_type": "markdown",
   "metadata": {},
   "source": [
    "#Mode Description\n",
    "'r' This is the default mode. It Opens file for reading.\n",
    "'w' This Mode Opens file for writing.\n",
    "If file does not exist, it creates a new file.\n",
    "If file exists it truncates the file.\n",
    "'x' Creates a new file. If file already exists, the operation fails.\n",
    "'a' Open file in append mode.\n",
    "If file does not exist, it creates a new file.\n",
    "'t' This is the default mode. It opens in text mode.\n",
    "'b' This opens in binary mode.\n",
    "'+' This will open a file for reading and writing (updating) \n"
   ]
  },
  {
   "cell_type": "code",
   "execution_count": 21,
   "metadata": {},
   "outputs": [
    {
     "name": "stdout",
     "output_type": "stream",
     "text": [
      "Writing file.txt\n"
     ]
    }
   ],
   "source": [
    "%%writefile file.txt\n",
    "Mode Description\n",
    "'r' This is the default mode. It Opens file for reading.\n",
    "'w' This Mode Opens file for writing.\n",
    "If file does not exist, it creates a new file.\n",
    "If file exists it truncates the file.\n",
    "'x' Creates a new file. If file already exists, the operation fails.\n",
    "'a' Open file in append mode.\n",
    "If file does not exist, it creates a new file.\n",
    "'t' This is the default mode. It opens in text mode.\n",
    "'b' This opens in binary mode.\n",
    "'+' This will open a file for reading and writing (updating) \n"
   ]
  },
  {
   "cell_type": "code",
   "execution_count": 22,
   "metadata": {},
   "outputs": [
    {
     "name": "stdout",
     "output_type": "stream",
     "text": [
      "Mode Description\n",
      "\n",
      "'r' This is the default mode. It Opens file for reading.\n",
      "\n",
      "'w' This Mode Opens file for writing.\n",
      "\n",
      "If file does not exist, it creates a new file.\n",
      "\n",
      "If file exists it truncates the file.\n",
      "\n",
      "'x' Creates a new file. If file already exists, the operation fails.\n",
      "\n",
      "'a' Open file in append mode.\n",
      "\n",
      "If file does not exist, it creates a new file.\n",
      "\n",
      "'t' This is the default mode. It opens in text mode.\n",
      "\n",
      "'b' This opens in binary mode.\n",
      "\n",
      "'+' This will open a file for reading and writing (updating) \n",
      "\n"
     ]
    }
   ],
   "source": [
    "for a in open('file.txt'):\n",
    "    print(a)"
   ]
  },
  {
   "cell_type": "code",
   "execution_count": 23,
   "metadata": {},
   "outputs": [
    {
     "data": {
      "text/plain": [
       "\"Mode Description\\n'r' This is the default mode. It Opens file for reading.\\n'w' This Mode Opens file for writing.\\nIf file does not exist, it creates a new file.\\nIf file exists it truncates the file.\\n'x' Creates a new file. If file already exists, the operation fails.\\n'a' Open file in append mode.\\nIf file does not exist, it creates a new file.\\n't' This is the default mode. It opens in text mode.\\n'b' This opens in binary mode.\\n'+' This will open a file for reading and writing (updating) \\n\""
      ]
     },
     "execution_count": 23,
     "metadata": {},
     "output_type": "execute_result"
    }
   ],
   "source": [
    "mfil = open('file.txt')\n",
    "mfil.read()"
   ]
  },
  {
   "cell_type": "code",
   "execution_count": 24,
   "metadata": {},
   "outputs": [
    {
     "data": {
      "text/plain": [
       "['Americans Play Baseball',\n",
       " 'Americans Play cricket',\n",
       " 'Americans watch Baseball',\n",
       " 'Americans watch cricket',\n",
       " 'Indians Play Baseball',\n",
       " 'Indians Play cricket',\n",
       " 'Indians watch Baseball',\n",
       " 'Indians watch cricket']"
      ]
     },
     "execution_count": 24,
     "metadata": {},
     "output_type": "execute_result"
    }
   ],
   "source": [
    "[(subject+' '+verb+' '+object1) for subject in [\"Americans\", \"Indians\"] for verb in [\"Play\", \"watch\"] for object1 in [\"Baseball\",\"cricket\"]]"
   ]
  },
  {
   "cell_type": "code",
   "execution_count": null,
   "metadata": {},
   "outputs": [],
   "source": []
  }
 ],
 "metadata": {
  "kernelspec": {
   "display_name": "Python 3",
   "language": "python",
   "name": "python3"
  }
 },
 "nbformat": 4,
 "nbformat_minor": 4
}
