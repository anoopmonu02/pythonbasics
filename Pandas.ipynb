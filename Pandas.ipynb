{
 "cells": [
  {
   "cell_type": "code",
   "execution_count": 1,
   "metadata": {},
   "outputs": [],
   "source": [
    "import pandas as pd"
   ]
  },
  {
   "cell_type": "code",
   "execution_count": 6,
   "metadata": {},
   "outputs": [
    {
     "data": {
      "text/html": [
       "<div>\n",
       "<style scoped>\n",
       "    .dataframe tbody tr th:only-of-type {\n",
       "        vertical-align: middle;\n",
       "    }\n",
       "\n",
       "    .dataframe tbody tr th {\n",
       "        vertical-align: top;\n",
       "    }\n",
       "\n",
       "    .dataframe thead th {\n",
       "        text-align: right;\n",
       "    }\n",
       "</style>\n",
       "<table border=\"1\" class=\"dataframe\">\n",
       "  <thead>\n",
       "    <tr style=\"text-align: right;\">\n",
       "      <th></th>\n",
       "      <th>Country / territory</th>\n",
       "      <th>Measure Names</th>\n",
       "      <th>Month of Date</th>\n",
       "      <th>Report Epi Week</th>\n",
       "      <th>Year of Date</th>\n",
       "      <th>Country / territory.1</th>\n",
       "      <th>Date</th>\n",
       "      <th>Measure Values</th>\n",
       "      <th>Laboratory confirmed cases</th>\n",
       "      <th>Suspected cases</th>\n",
       "    </tr>\n",
       "  </thead>\n",
       "  <tbody>\n",
       "    <tr>\n",
       "      <th>0</th>\n",
       "      <td>Aruba</td>\n",
       "      <td>Suspected</td>\n",
       "      <td>January</td>\n",
       "      <td>1</td>\n",
       "      <td>2016</td>\n",
       "      <td>Aruba</td>\n",
       "      <td>January, 2016</td>\n",
       "      <td>0</td>\n",
       "      <td>0</td>\n",
       "      <td>0</td>\n",
       "    </tr>\n",
       "    <tr>\n",
       "      <th>1</th>\n",
       "      <td>Aruba</td>\n",
       "      <td>Confirmed</td>\n",
       "      <td>January</td>\n",
       "      <td>1</td>\n",
       "      <td>2016</td>\n",
       "      <td>Aruba</td>\n",
       "      <td>January, 2016</td>\n",
       "      <td>0</td>\n",
       "      <td>0</td>\n",
       "      <td>0</td>\n",
       "    </tr>\n",
       "    <tr>\n",
       "      <th>2</th>\n",
       "      <td>Aruba</td>\n",
       "      <td>Suspected</td>\n",
       "      <td>January</td>\n",
       "      <td>2</td>\n",
       "      <td>2016</td>\n",
       "      <td>Aruba</td>\n",
       "      <td>January, 2016</td>\n",
       "      <td>0</td>\n",
       "      <td>0</td>\n",
       "      <td>0</td>\n",
       "    </tr>\n",
       "    <tr>\n",
       "      <th>3</th>\n",
       "      <td>Aruba</td>\n",
       "      <td>Confirmed</td>\n",
       "      <td>January</td>\n",
       "      <td>2</td>\n",
       "      <td>2016</td>\n",
       "      <td>Aruba</td>\n",
       "      <td>January, 2016</td>\n",
       "      <td>0</td>\n",
       "      <td>0</td>\n",
       "      <td>0</td>\n",
       "    </tr>\n",
       "    <tr>\n",
       "      <th>4</th>\n",
       "      <td>Aruba</td>\n",
       "      <td>Suspected</td>\n",
       "      <td>January</td>\n",
       "      <td>3</td>\n",
       "      <td>2016</td>\n",
       "      <td>Aruba</td>\n",
       "      <td>January, 2016</td>\n",
       "      <td>0</td>\n",
       "      <td>0</td>\n",
       "      <td>0</td>\n",
       "    </tr>\n",
       "    <tr>\n",
       "      <th>...</th>\n",
       "      <td>...</td>\n",
       "      <td>...</td>\n",
       "      <td>...</td>\n",
       "      <td>...</td>\n",
       "      <td>...</td>\n",
       "      <td>...</td>\n",
       "      <td>...</td>\n",
       "      <td>...</td>\n",
       "      <td>...</td>\n",
       "      <td>...</td>\n",
       "    </tr>\n",
       "    <tr>\n",
       "      <th>1211</th>\n",
       "      <td>Venezuela</td>\n",
       "      <td>Confirmed</td>\n",
       "      <td>December</td>\n",
       "      <td>50</td>\n",
       "      <td>2015</td>\n",
       "      <td>Venezuela</td>\n",
       "      <td>December, 2015</td>\n",
       "      <td>0</td>\n",
       "      <td>0</td>\n",
       "      <td>0</td>\n",
       "    </tr>\n",
       "    <tr>\n",
       "      <th>1212</th>\n",
       "      <td>Venezuela</td>\n",
       "      <td>Suspected</td>\n",
       "      <td>December</td>\n",
       "      <td>51</td>\n",
       "      <td>2015</td>\n",
       "      <td>Venezuela</td>\n",
       "      <td>December, 2015</td>\n",
       "      <td>0</td>\n",
       "      <td>0</td>\n",
       "      <td>0</td>\n",
       "    </tr>\n",
       "    <tr>\n",
       "      <th>1213</th>\n",
       "      <td>Venezuela</td>\n",
       "      <td>Confirmed</td>\n",
       "      <td>December</td>\n",
       "      <td>51</td>\n",
       "      <td>2015</td>\n",
       "      <td>Venezuela</td>\n",
       "      <td>December, 2015</td>\n",
       "      <td>0</td>\n",
       "      <td>0</td>\n",
       "      <td>0</td>\n",
       "    </tr>\n",
       "    <tr>\n",
       "      <th>1214</th>\n",
       "      <td>Venezuela</td>\n",
       "      <td>Suspected</td>\n",
       "      <td>December</td>\n",
       "      <td>52</td>\n",
       "      <td>2015</td>\n",
       "      <td>Venezuela</td>\n",
       "      <td>December, 2015</td>\n",
       "      <td>0</td>\n",
       "      <td>0</td>\n",
       "      <td>0</td>\n",
       "    </tr>\n",
       "    <tr>\n",
       "      <th>1215</th>\n",
       "      <td>Venezuela</td>\n",
       "      <td>Confirmed</td>\n",
       "      <td>December</td>\n",
       "      <td>52</td>\n",
       "      <td>2015</td>\n",
       "      <td>Venezuela</td>\n",
       "      <td>December, 2015</td>\n",
       "      <td>0</td>\n",
       "      <td>0</td>\n",
       "      <td>0</td>\n",
       "    </tr>\n",
       "  </tbody>\n",
       "</table>\n",
       "<p>1216 rows × 10 columns</p>\n",
       "</div>"
      ],
      "text/plain": [
       "     Country / territory Measure Names Month of Date  Report Epi Week  \\\n",
       "0                  Aruba     Suspected       January                1   \n",
       "1                  Aruba    Confirmed        January                1   \n",
       "2                  Aruba     Suspected       January                2   \n",
       "3                  Aruba    Confirmed        January                2   \n",
       "4                  Aruba     Suspected       January                3   \n",
       "...                  ...           ...           ...              ...   \n",
       "1211           Venezuela    Confirmed       December               50   \n",
       "1212           Venezuela     Suspected      December               51   \n",
       "1213           Venezuela    Confirmed       December               51   \n",
       "1214           Venezuela     Suspected      December               52   \n",
       "1215           Venezuela    Confirmed       December               52   \n",
       "\n",
       "      Year of Date Country / territory.1            Date Measure Values  \\\n",
       "0             2016                 Aruba   January, 2016              0   \n",
       "1             2016                 Aruba   January, 2016              0   \n",
       "2             2016                 Aruba   January, 2016              0   \n",
       "3             2016                 Aruba   January, 2016              0   \n",
       "4             2016                 Aruba   January, 2016              0   \n",
       "...            ...                   ...             ...            ...   \n",
       "1211          2015             Venezuela  December, 2015              0   \n",
       "1212          2015             Venezuela  December, 2015              0   \n",
       "1213          2015             Venezuela  December, 2015              0   \n",
       "1214          2015             Venezuela  December, 2015              0   \n",
       "1215          2015             Venezuela  December, 2015              0   \n",
       "\n",
       "      Laboratory confirmed cases Suspected cases  \n",
       "0                              0               0  \n",
       "1                              0               0  \n",
       "2                              0               0  \n",
       "3                              0               0  \n",
       "4                              0               0  \n",
       "...                          ...             ...  \n",
       "1211                           0               0  \n",
       "1212                           0               0  \n",
       "1213                           0               0  \n",
       "1214                           0               0  \n",
       "1215                           0               0  \n",
       "\n",
       "[1216 rows x 10 columns]"
      ]
     },
     "execution_count": 6,
     "metadata": {},
     "output_type": "execute_result"
    }
   ],
   "source": [
    "df = pd.read_csv(\"https://raw.githubusercontent.com/BuzzFeedNews/zika-data/master/data/raw/paho-who/paho-who-cases-reported-2016-03-02.csv\")\n",
    "df"
   ]
  },
  {
   "cell_type": "code",
   "execution_count": 7,
   "metadata": {},
   "outputs": [],
   "source": [
    "import numpy as np"
   ]
  },
  {
   "cell_type": "code",
   "execution_count": 8,
   "metadata": {},
   "outputs": [],
   "source": [
    "df1 = pd.DataFrame(np.arange(1,21).reshape(5,4), index=['r1','r2','r3','r4','r5'], columns=['c1','c2','c3','c4'])"
   ]
  },
  {
   "cell_type": "code",
   "execution_count": 9,
   "metadata": {},
   "outputs": [
    {
     "data": {
      "text/html": [
       "<div>\n",
       "<style scoped>\n",
       "    .dataframe tbody tr th:only-of-type {\n",
       "        vertical-align: middle;\n",
       "    }\n",
       "\n",
       "    .dataframe tbody tr th {\n",
       "        vertical-align: top;\n",
       "    }\n",
       "\n",
       "    .dataframe thead th {\n",
       "        text-align: right;\n",
       "    }\n",
       "</style>\n",
       "<table border=\"1\" class=\"dataframe\">\n",
       "  <thead>\n",
       "    <tr style=\"text-align: right;\">\n",
       "      <th></th>\n",
       "      <th>c1</th>\n",
       "      <th>c2</th>\n",
       "      <th>c3</th>\n",
       "      <th>c4</th>\n",
       "    </tr>\n",
       "  </thead>\n",
       "  <tbody>\n",
       "    <tr>\n",
       "      <th>r1</th>\n",
       "      <td>1</td>\n",
       "      <td>2</td>\n",
       "      <td>3</td>\n",
       "      <td>4</td>\n",
       "    </tr>\n",
       "    <tr>\n",
       "      <th>r2</th>\n",
       "      <td>5</td>\n",
       "      <td>6</td>\n",
       "      <td>7</td>\n",
       "      <td>8</td>\n",
       "    </tr>\n",
       "    <tr>\n",
       "      <th>r3</th>\n",
       "      <td>9</td>\n",
       "      <td>10</td>\n",
       "      <td>11</td>\n",
       "      <td>12</td>\n",
       "    </tr>\n",
       "    <tr>\n",
       "      <th>r4</th>\n",
       "      <td>13</td>\n",
       "      <td>14</td>\n",
       "      <td>15</td>\n",
       "      <td>16</td>\n",
       "    </tr>\n",
       "    <tr>\n",
       "      <th>r5</th>\n",
       "      <td>17</td>\n",
       "      <td>18</td>\n",
       "      <td>19</td>\n",
       "      <td>20</td>\n",
       "    </tr>\n",
       "  </tbody>\n",
       "</table>\n",
       "</div>"
      ],
      "text/plain": [
       "    c1  c2  c3  c4\n",
       "r1   1   2   3   4\n",
       "r2   5   6   7   8\n",
       "r3   9  10  11  12\n",
       "r4  13  14  15  16\n",
       "r5  17  18  19  20"
      ]
     },
     "execution_count": 9,
     "metadata": {},
     "output_type": "execute_result"
    }
   ],
   "source": [
    "df1"
   ]
  },
  {
   "cell_type": "code",
   "execution_count": 12,
   "metadata": {},
   "outputs": [
    {
     "data": {
      "text/plain": [
       "c1    1\n",
       "c2    2\n",
       "c3    3\n",
       "c4    4\n",
       "Name: r1, dtype: int32"
      ]
     },
     "execution_count": 12,
     "metadata": {},
     "output_type": "execute_result"
    }
   ],
   "source": [
    "df1.loc['r1']"
   ]
  },
  {
   "cell_type": "code",
   "execution_count": 13,
   "metadata": {},
   "outputs": [],
   "source": [
    "df1.to_csv('demo.csv')"
   ]
  },
  {
   "cell_type": "code",
   "execution_count": 14,
   "metadata": {},
   "outputs": [
    {
     "data": {
      "text/html": [
       "<div>\n",
       "<style scoped>\n",
       "    .dataframe tbody tr th:only-of-type {\n",
       "        vertical-align: middle;\n",
       "    }\n",
       "\n",
       "    .dataframe tbody tr th {\n",
       "        vertical-align: top;\n",
       "    }\n",
       "\n",
       "    .dataframe thead th {\n",
       "        text-align: right;\n",
       "    }\n",
       "</style>\n",
       "<table border=\"1\" class=\"dataframe\">\n",
       "  <thead>\n",
       "    <tr style=\"text-align: right;\">\n",
       "      <th></th>\n",
       "      <th>c1</th>\n",
       "      <th>c2</th>\n",
       "      <th>c3</th>\n",
       "      <th>c4</th>\n",
       "    </tr>\n",
       "  </thead>\n",
       "  <tbody>\n",
       "    <tr>\n",
       "      <th>r1</th>\n",
       "      <td>1</td>\n",
       "      <td>2</td>\n",
       "      <td>3</td>\n",
       "      <td>4</td>\n",
       "    </tr>\n",
       "    <tr>\n",
       "      <th>r2</th>\n",
       "      <td>5</td>\n",
       "      <td>6</td>\n",
       "      <td>7</td>\n",
       "      <td>8</td>\n",
       "    </tr>\n",
       "    <tr>\n",
       "      <th>r3</th>\n",
       "      <td>9</td>\n",
       "      <td>10</td>\n",
       "      <td>11</td>\n",
       "      <td>12</td>\n",
       "    </tr>\n",
       "    <tr>\n",
       "      <th>r4</th>\n",
       "      <td>13</td>\n",
       "      <td>14</td>\n",
       "      <td>15</td>\n",
       "      <td>16</td>\n",
       "    </tr>\n",
       "    <tr>\n",
       "      <th>r5</th>\n",
       "      <td>17</td>\n",
       "      <td>18</td>\n",
       "      <td>19</td>\n",
       "      <td>20</td>\n",
       "    </tr>\n",
       "  </tbody>\n",
       "</table>\n",
       "</div>"
      ],
      "text/plain": [
       "    c1  c2  c3  c4\n",
       "r1   1   2   3   4\n",
       "r2   5   6   7   8\n",
       "r3   9  10  11  12\n",
       "r4  13  14  15  16\n",
       "r5  17  18  19  20"
      ]
     },
     "execution_count": 14,
     "metadata": {},
     "output_type": "execute_result"
    }
   ],
   "source": [
    "#iloc get rows and columns\n",
    "df1.iloc[:,:]"
   ]
  },
  {
   "cell_type": "code",
   "execution_count": 15,
   "metadata": {},
   "outputs": [
    {
     "data": {
      "text/html": [
       "<div>\n",
       "<style scoped>\n",
       "    .dataframe tbody tr th:only-of-type {\n",
       "        vertical-align: middle;\n",
       "    }\n",
       "\n",
       "    .dataframe tbody tr th {\n",
       "        vertical-align: top;\n",
       "    }\n",
       "\n",
       "    .dataframe thead th {\n",
       "        text-align: right;\n",
       "    }\n",
       "</style>\n",
       "<table border=\"1\" class=\"dataframe\">\n",
       "  <thead>\n",
       "    <tr style=\"text-align: right;\">\n",
       "      <th></th>\n",
       "      <th>c1</th>\n",
       "      <th>c2</th>\n",
       "    </tr>\n",
       "  </thead>\n",
       "  <tbody>\n",
       "    <tr>\n",
       "      <th>r1</th>\n",
       "      <td>1</td>\n",
       "      <td>2</td>\n",
       "    </tr>\n",
       "    <tr>\n",
       "      <th>r2</th>\n",
       "      <td>5</td>\n",
       "      <td>6</td>\n",
       "    </tr>\n",
       "    <tr>\n",
       "      <th>r3</th>\n",
       "      <td>9</td>\n",
       "      <td>10</td>\n",
       "    </tr>\n",
       "  </tbody>\n",
       "</table>\n",
       "</div>"
      ],
      "text/plain": [
       "    c1  c2\n",
       "r1   1   2\n",
       "r2   5   6\n",
       "r3   9  10"
      ]
     },
     "execution_count": 15,
     "metadata": {},
     "output_type": "execute_result"
    }
   ],
   "source": [
    "df1.iloc[0:3,0:2]"
   ]
  },
  {
   "cell_type": "code",
   "execution_count": 16,
   "metadata": {},
   "outputs": [
    {
     "data": {
      "text/plain": [
       "array([[ 1,  2],\n",
       "       [ 5,  6],\n",
       "       [ 9, 10]])"
      ]
     },
     "execution_count": 16,
     "metadata": {},
     "output_type": "execute_result"
    }
   ],
   "source": [
    "df1.iloc[0:3,0:2].values"
   ]
  },
  {
   "cell_type": "code",
   "execution_count": 17,
   "metadata": {},
   "outputs": [
    {
     "data": {
      "text/plain": [
       "Country / territory           0\n",
       "Measure Names                 0\n",
       "Month of Date                 0\n",
       "Report Epi Week               0\n",
       "Year of Date                  0\n",
       "Country / territory.1         0\n",
       "Date                          0\n",
       "Measure Values                0\n",
       "Laboratory confirmed cases    0\n",
       "Suspected cases               0\n",
       "dtype: int64"
      ]
     },
     "execution_count": 17,
     "metadata": {},
     "output_type": "execute_result"
    }
   ],
   "source": [
    "df.isnull().sum()"
   ]
  },
  {
   "cell_type": "code",
   "execution_count": 51,
   "metadata": {},
   "outputs": [
    {
     "data": {
      "text/plain": [
       "array([ 1,  5,  9, 13, 17])"
      ]
     },
     "execution_count": 51,
     "metadata": {},
     "output_type": "execute_result"
    }
   ],
   "source": [
    "df1['c1'].unique()"
   ]
  },
  {
   "cell_type": "code",
   "execution_count": 21,
   "metadata": {},
   "outputs": [
    {
     "data": {
      "text/html": [
       "<div>\n",
       "<style scoped>\n",
       "    .dataframe tbody tr th:only-of-type {\n",
       "        vertical-align: middle;\n",
       "    }\n",
       "\n",
       "    .dataframe tbody tr th {\n",
       "        vertical-align: top;\n",
       "    }\n",
       "\n",
       "    .dataframe thead th {\n",
       "        text-align: right;\n",
       "    }\n",
       "</style>\n",
       "<table border=\"1\" class=\"dataframe\">\n",
       "  <thead>\n",
       "    <tr style=\"text-align: right;\">\n",
       "      <th></th>\n",
       "      <th>c1</th>\n",
       "      <th>c2</th>\n",
       "    </tr>\n",
       "  </thead>\n",
       "  <tbody>\n",
       "    <tr>\n",
       "      <th>r1</th>\n",
       "      <td>1</td>\n",
       "      <td>2</td>\n",
       "    </tr>\n",
       "    <tr>\n",
       "      <th>r2</th>\n",
       "      <td>5</td>\n",
       "      <td>6</td>\n",
       "    </tr>\n",
       "    <tr>\n",
       "      <th>r3</th>\n",
       "      <td>9</td>\n",
       "      <td>10</td>\n",
       "    </tr>\n",
       "    <tr>\n",
       "      <th>r4</th>\n",
       "      <td>13</td>\n",
       "      <td>14</td>\n",
       "    </tr>\n",
       "    <tr>\n",
       "      <th>r5</th>\n",
       "      <td>17</td>\n",
       "      <td>18</td>\n",
       "    </tr>\n",
       "  </tbody>\n",
       "</table>\n",
       "</div>"
      ],
      "text/plain": [
       "    c1  c2\n",
       "r1   1   2\n",
       "r2   5   6\n",
       "r3   9  10\n",
       "r4  13  14\n",
       "r5  17  18"
      ]
     },
     "execution_count": 21,
     "metadata": {},
     "output_type": "execute_result"
    }
   ],
   "source": [
    "df1[['c1','c2']]"
   ]
  },
  {
   "cell_type": "markdown",
   "metadata": {},
   "source": [
    "# Pandas Read operation"
   ]
  },
  {
   "cell_type": "code",
   "execution_count": 22,
   "metadata": {},
   "outputs": [
    {
     "name": "stdout",
     "output_type": "stream",
     "text": [
      "<class 'pandas.core.frame.DataFrame'>\n",
      "RangeIndex: 1216 entries, 0 to 1215\n",
      "Data columns (total 10 columns):\n",
      " #   Column                      Non-Null Count  Dtype \n",
      "---  ------                      --------------  ----- \n",
      " 0   Country / territory         1216 non-null   object\n",
      " 1   Measure Names               1216 non-null   object\n",
      " 2   Month of Date               1216 non-null   object\n",
      " 3   Report Epi Week             1216 non-null   int64 \n",
      " 4   Year of Date                1216 non-null   int64 \n",
      " 5   Country / territory.1       1216 non-null   object\n",
      " 6   Date                        1216 non-null   object\n",
      " 7   Measure Values              1216 non-null   object\n",
      " 8   Laboratory confirmed cases  1216 non-null   int64 \n",
      " 9   Suspected cases             1216 non-null   object\n",
      "dtypes: int64(3), object(7)\n",
      "memory usage: 95.1+ KB\n"
     ]
    }
   ],
   "source": [
    "df.info()"
   ]
  },
  {
   "cell_type": "code",
   "execution_count": 23,
   "metadata": {},
   "outputs": [
    {
     "data": {
      "text/html": [
       "<div>\n",
       "<style scoped>\n",
       "    .dataframe tbody tr th:only-of-type {\n",
       "        vertical-align: middle;\n",
       "    }\n",
       "\n",
       "    .dataframe tbody tr th {\n",
       "        vertical-align: top;\n",
       "    }\n",
       "\n",
       "    .dataframe thead th {\n",
       "        text-align: right;\n",
       "    }\n",
       "</style>\n",
       "<table border=\"1\" class=\"dataframe\">\n",
       "  <thead>\n",
       "    <tr style=\"text-align: right;\">\n",
       "      <th></th>\n",
       "      <th>Report Epi Week</th>\n",
       "      <th>Year of Date</th>\n",
       "      <th>Laboratory confirmed cases</th>\n",
       "    </tr>\n",
       "  </thead>\n",
       "  <tbody>\n",
       "    <tr>\n",
       "      <th>count</th>\n",
       "      <td>1216.000000</td>\n",
       "      <td>1216.000000</td>\n",
       "      <td>1216.000000</td>\n",
       "    </tr>\n",
       "    <tr>\n",
       "      <th>mean</th>\n",
       "      <td>31.761513</td>\n",
       "      <td>2015.335526</td>\n",
       "      <td>4.689145</td>\n",
       "    </tr>\n",
       "    <tr>\n",
       "      <th>std</th>\n",
       "      <td>20.136097</td>\n",
       "      <td>0.472368</td>\n",
       "      <td>29.792762</td>\n",
       "    </tr>\n",
       "    <tr>\n",
       "      <th>min</th>\n",
       "      <td>1.000000</td>\n",
       "      <td>2015.000000</td>\n",
       "      <td>0.000000</td>\n",
       "    </tr>\n",
       "    <tr>\n",
       "      <th>25%</th>\n",
       "      <td>5.000000</td>\n",
       "      <td>2015.000000</td>\n",
       "      <td>0.000000</td>\n",
       "    </tr>\n",
       "    <tr>\n",
       "      <th>50%</th>\n",
       "      <td>43.000000</td>\n",
       "      <td>2015.000000</td>\n",
       "      <td>0.000000</td>\n",
       "    </tr>\n",
       "    <tr>\n",
       "      <th>75%</th>\n",
       "      <td>48.000000</td>\n",
       "      <td>2016.000000</td>\n",
       "      <td>0.000000</td>\n",
       "    </tr>\n",
       "    <tr>\n",
       "      <th>max</th>\n",
       "      <td>52.000000</td>\n",
       "      <td>2016.000000</td>\n",
       "      <td>526.000000</td>\n",
       "    </tr>\n",
       "  </tbody>\n",
       "</table>\n",
       "</div>"
      ],
      "text/plain": [
       "       Report Epi Week  Year of Date  Laboratory confirmed cases\n",
       "count      1216.000000   1216.000000                 1216.000000\n",
       "mean         31.761513   2015.335526                    4.689145\n",
       "std          20.136097      0.472368                   29.792762\n",
       "min           1.000000   2015.000000                    0.000000\n",
       "25%           5.000000   2015.000000                    0.000000\n",
       "50%          43.000000   2015.000000                    0.000000\n",
       "75%          48.000000   2016.000000                    0.000000\n",
       "max          52.000000   2016.000000                  526.000000"
      ]
     },
     "execution_count": 23,
     "metadata": {},
     "output_type": "execute_result"
    }
   ],
   "source": [
    "df.describe()"
   ]
  },
  {
   "cell_type": "code",
   "execution_count": 24,
   "metadata": {},
   "outputs": [
    {
     "data": {
      "text/plain": [
       "0        1032\n",
       "3           6\n",
       "2           4\n",
       "59          4\n",
       "115         4\n",
       "         ... \n",
       "1,310       2\n",
       "1,069       2\n",
       "828         2\n",
       "1,451       2\n",
       "1,363       2\n",
       "Name: Suspected cases, Length: 88, dtype: int64"
      ]
     },
     "execution_count": 24,
     "metadata": {},
     "output_type": "execute_result"
    }
   ],
   "source": [
    "# get the unique category count\n",
    "df['Suspected cases'].value_counts()"
   ]
  },
  {
   "cell_type": "code",
   "execution_count": 56,
   "metadata": {},
   "outputs": [
    {
     "data": {
      "text/html": [
       "<div>\n",
       "<style scoped>\n",
       "    .dataframe tbody tr th:only-of-type {\n",
       "        vertical-align: middle;\n",
       "    }\n",
       "\n",
       "    .dataframe tbody tr th {\n",
       "        vertical-align: top;\n",
       "    }\n",
       "\n",
       "    .dataframe thead th {\n",
       "        text-align: right;\n",
       "    }\n",
       "</style>\n",
       "<table border=\"1\" class=\"dataframe\">\n",
       "  <thead>\n",
       "    <tr style=\"text-align: right;\">\n",
       "      <th></th>\n",
       "      <th>Country / territory</th>\n",
       "      <th>Measure Names</th>\n",
       "      <th>Month of Date</th>\n",
       "      <th>Report Epi Week</th>\n",
       "      <th>Year of Date</th>\n",
       "      <th>Country / territory.1</th>\n",
       "      <th>Date</th>\n",
       "      <th>Measure Values</th>\n",
       "      <th>Laboratory confirmed cases</th>\n",
       "      <th>Suspected cases</th>\n",
       "    </tr>\n",
       "  </thead>\n",
       "  <tbody>\n",
       "    <tr>\n",
       "      <th>914</th>\n",
       "      <td>Aruba</td>\n",
       "      <td>Suspected</td>\n",
       "      <td>December</td>\n",
       "      <td>52</td>\n",
       "      <td>2015</td>\n",
       "      <td>Aruba</td>\n",
       "      <td>December, 2015</td>\n",
       "      <td>0</td>\n",
       "      <td>0</td>\n",
       "      <td>0</td>\n",
       "    </tr>\n",
       "    <tr>\n",
       "      <th>915</th>\n",
       "      <td>Aruba</td>\n",
       "      <td>Confirmed</td>\n",
       "      <td>December</td>\n",
       "      <td>52</td>\n",
       "      <td>2015</td>\n",
       "      <td>Aruba</td>\n",
       "      <td>December, 2015</td>\n",
       "      <td>0</td>\n",
       "      <td>0</td>\n",
       "      <td>0</td>\n",
       "    </tr>\n",
       "    <tr>\n",
       "      <th>924</th>\n",
       "      <td>Barbados</td>\n",
       "      <td>Suspected</td>\n",
       "      <td>December</td>\n",
       "      <td>52</td>\n",
       "      <td>2015</td>\n",
       "      <td>Barbados</td>\n",
       "      <td>December, 2015</td>\n",
       "      <td>0</td>\n",
       "      <td>0</td>\n",
       "      <td>0</td>\n",
       "    </tr>\n",
       "    <tr>\n",
       "      <th>925</th>\n",
       "      <td>Barbados</td>\n",
       "      <td>Confirmed</td>\n",
       "      <td>December</td>\n",
       "      <td>52</td>\n",
       "      <td>2015</td>\n",
       "      <td>Barbados</td>\n",
       "      <td>December, 2015</td>\n",
       "      <td>0</td>\n",
       "      <td>0</td>\n",
       "      <td>0</td>\n",
       "    </tr>\n",
       "    <tr>\n",
       "      <th>934</th>\n",
       "      <td>Bolivia</td>\n",
       "      <td>Suspected</td>\n",
       "      <td>December</td>\n",
       "      <td>52</td>\n",
       "      <td>2015</td>\n",
       "      <td>Bolivia</td>\n",
       "      <td>December, 2015</td>\n",
       "      <td>0</td>\n",
       "      <td>0</td>\n",
       "      <td>0</td>\n",
       "    </tr>\n",
       "    <tr>\n",
       "      <th>...</th>\n",
       "      <td>...</td>\n",
       "      <td>...</td>\n",
       "      <td>...</td>\n",
       "      <td>...</td>\n",
       "      <td>...</td>\n",
       "      <td>...</td>\n",
       "      <td>...</td>\n",
       "      <td>...</td>\n",
       "      <td>...</td>\n",
       "      <td>...</td>\n",
       "    </tr>\n",
       "    <tr>\n",
       "      <th>1195</th>\n",
       "      <td>Trinidad and Tobago</td>\n",
       "      <td>Confirmed</td>\n",
       "      <td>December</td>\n",
       "      <td>52</td>\n",
       "      <td>2015</td>\n",
       "      <td>Trinidad and Tobago</td>\n",
       "      <td>December, 2015</td>\n",
       "      <td>0</td>\n",
       "      <td>0</td>\n",
       "      <td>0</td>\n",
       "    </tr>\n",
       "    <tr>\n",
       "      <th>1204</th>\n",
       "      <td>United States Virgin Islands</td>\n",
       "      <td>Suspected</td>\n",
       "      <td>December</td>\n",
       "      <td>52</td>\n",
       "      <td>2015</td>\n",
       "      <td>United States Virgin Islands</td>\n",
       "      <td>December, 2015</td>\n",
       "      <td>0</td>\n",
       "      <td>0</td>\n",
       "      <td>0</td>\n",
       "    </tr>\n",
       "    <tr>\n",
       "      <th>1205</th>\n",
       "      <td>United States Virgin Islands</td>\n",
       "      <td>Confirmed</td>\n",
       "      <td>December</td>\n",
       "      <td>52</td>\n",
       "      <td>2015</td>\n",
       "      <td>United States Virgin Islands</td>\n",
       "      <td>December, 2015</td>\n",
       "      <td>0</td>\n",
       "      <td>0</td>\n",
       "      <td>0</td>\n",
       "    </tr>\n",
       "    <tr>\n",
       "      <th>1214</th>\n",
       "      <td>Venezuela</td>\n",
       "      <td>Suspected</td>\n",
       "      <td>December</td>\n",
       "      <td>52</td>\n",
       "      <td>2015</td>\n",
       "      <td>Venezuela</td>\n",
       "      <td>December, 2015</td>\n",
       "      <td>0</td>\n",
       "      <td>0</td>\n",
       "      <td>0</td>\n",
       "    </tr>\n",
       "    <tr>\n",
       "      <th>1215</th>\n",
       "      <td>Venezuela</td>\n",
       "      <td>Confirmed</td>\n",
       "      <td>December</td>\n",
       "      <td>52</td>\n",
       "      <td>2015</td>\n",
       "      <td>Venezuela</td>\n",
       "      <td>December, 2015</td>\n",
       "      <td>0</td>\n",
       "      <td>0</td>\n",
       "      <td>0</td>\n",
       "    </tr>\n",
       "  </tbody>\n",
       "</table>\n",
       "<p>62 rows × 10 columns</p>\n",
       "</div>"
      ],
      "text/plain": [
       "               Country / territory Measure Names Month of Date  \\\n",
       "914                          Aruba     Suspected      December   \n",
       "915                          Aruba    Confirmed       December   \n",
       "924                       Barbados     Suspected      December   \n",
       "925                       Barbados    Confirmed       December   \n",
       "934                        Bolivia     Suspected      December   \n",
       "...                            ...           ...           ...   \n",
       "1195           Trinidad and Tobago    Confirmed       December   \n",
       "1204  United States Virgin Islands     Suspected      December   \n",
       "1205  United States Virgin Islands    Confirmed       December   \n",
       "1214                     Venezuela     Suspected      December   \n",
       "1215                     Venezuela    Confirmed       December   \n",
       "\n",
       "      Report Epi Week  Year of Date         Country / territory.1  \\\n",
       "914                52          2015                         Aruba   \n",
       "915                52          2015                         Aruba   \n",
       "924                52          2015                      Barbados   \n",
       "925                52          2015                      Barbados   \n",
       "934                52          2015                       Bolivia   \n",
       "...               ...           ...                           ...   \n",
       "1195               52          2015           Trinidad and Tobago   \n",
       "1204               52          2015  United States Virgin Islands   \n",
       "1205               52          2015  United States Virgin Islands   \n",
       "1214               52          2015                     Venezuela   \n",
       "1215               52          2015                     Venezuela   \n",
       "\n",
       "                Date Measure Values  Laboratory confirmed cases  \\\n",
       "914   December, 2015              0                           0   \n",
       "915   December, 2015              0                           0   \n",
       "924   December, 2015              0                           0   \n",
       "925   December, 2015              0                           0   \n",
       "934   December, 2015              0                           0   \n",
       "...              ...            ...                         ...   \n",
       "1195  December, 2015              0                           0   \n",
       "1204  December, 2015              0                           0   \n",
       "1205  December, 2015              0                           0   \n",
       "1214  December, 2015              0                           0   \n",
       "1215  December, 2015              0                           0   \n",
       "\n",
       "     Suspected cases  \n",
       "914                0  \n",
       "915                0  \n",
       "924                0  \n",
       "925                0  \n",
       "934                0  \n",
       "...              ...  \n",
       "1195               0  \n",
       "1204               0  \n",
       "1205               0  \n",
       "1214               0  \n",
       "1215               0  \n",
       "\n",
       "[62 rows x 10 columns]"
      ]
     },
     "execution_count": 56,
     "metadata": {},
     "output_type": "execute_result"
    }
   ],
   "source": [
    "df[df['Report Epi Week']>51]"
   ]
  },
  {
   "cell_type": "code",
   "execution_count": 35,
   "metadata": {},
   "outputs": [],
   "source": [
    "from io import StringIO, BytesIO"
   ]
  },
  {
   "cell_type": "code",
   "execution_count": 36,
   "metadata": {},
   "outputs": [],
   "source": [
    "data = ('col1,col2,col3\\n'\n",
    "       'x,y,1\\n'\n",
    "       'a,b,2\\n'\n",
    "       'c,d,3')"
   ]
  },
  {
   "cell_type": "code",
   "execution_count": 37,
   "metadata": {},
   "outputs": [
    {
     "data": {
      "text/html": [
       "<div>\n",
       "<style scoped>\n",
       "    .dataframe tbody tr th:only-of-type {\n",
       "        vertical-align: middle;\n",
       "    }\n",
       "\n",
       "    .dataframe tbody tr th {\n",
       "        vertical-align: top;\n",
       "    }\n",
       "\n",
       "    .dataframe thead th {\n",
       "        text-align: right;\n",
       "    }\n",
       "</style>\n",
       "<table border=\"1\" class=\"dataframe\">\n",
       "  <thead>\n",
       "    <tr style=\"text-align: right;\">\n",
       "      <th></th>\n",
       "      <th>col1</th>\n",
       "      <th>col2</th>\n",
       "      <th>col3</th>\n",
       "    </tr>\n",
       "  </thead>\n",
       "  <tbody>\n",
       "    <tr>\n",
       "      <th>0</th>\n",
       "      <td>x</td>\n",
       "      <td>y</td>\n",
       "      <td>1</td>\n",
       "    </tr>\n",
       "    <tr>\n",
       "      <th>1</th>\n",
       "      <td>a</td>\n",
       "      <td>b</td>\n",
       "      <td>2</td>\n",
       "    </tr>\n",
       "    <tr>\n",
       "      <th>2</th>\n",
       "      <td>c</td>\n",
       "      <td>d</td>\n",
       "      <td>3</td>\n",
       "    </tr>\n",
       "  </tbody>\n",
       "</table>\n",
       "</div>"
      ],
      "text/plain": [
       "  col1 col2  col3\n",
       "0    x    y     1\n",
       "1    a    b     2\n",
       "2    c    d     3"
      ]
     },
     "execution_count": 37,
     "metadata": {},
     "output_type": "execute_result"
    }
   ],
   "source": [
    "pd.read_csv(StringIO(data))"
   ]
  },
  {
   "cell_type": "code",
   "execution_count": 39,
   "metadata": {},
   "outputs": [],
   "source": [
    " dt1 = pd.read_csv(StringIO(data), dtype=object)"
   ]
  },
  {
   "cell_type": "code",
   "execution_count": 40,
   "metadata": {},
   "outputs": [
    {
     "data": {
      "text/html": [
       "<div>\n",
       "<style scoped>\n",
       "    .dataframe tbody tr th:only-of-type {\n",
       "        vertical-align: middle;\n",
       "    }\n",
       "\n",
       "    .dataframe tbody tr th {\n",
       "        vertical-align: top;\n",
       "    }\n",
       "\n",
       "    .dataframe thead th {\n",
       "        text-align: right;\n",
       "    }\n",
       "</style>\n",
       "<table border=\"1\" class=\"dataframe\">\n",
       "  <thead>\n",
       "    <tr style=\"text-align: right;\">\n",
       "      <th></th>\n",
       "      <th>col1</th>\n",
       "      <th>col2</th>\n",
       "      <th>col3</th>\n",
       "    </tr>\n",
       "  </thead>\n",
       "  <tbody>\n",
       "    <tr>\n",
       "      <th>0</th>\n",
       "      <td>x</td>\n",
       "      <td>y</td>\n",
       "      <td>1</td>\n",
       "    </tr>\n",
       "    <tr>\n",
       "      <th>1</th>\n",
       "      <td>a</td>\n",
       "      <td>b</td>\n",
       "      <td>2</td>\n",
       "    </tr>\n",
       "    <tr>\n",
       "      <th>2</th>\n",
       "      <td>c</td>\n",
       "      <td>d</td>\n",
       "      <td>3</td>\n",
       "    </tr>\n",
       "  </tbody>\n",
       "</table>\n",
       "</div>"
      ],
      "text/plain": [
       "  col1 col2 col3\n",
       "0    x    y    1\n",
       "1    a    b    2\n",
       "2    c    d    3"
      ]
     },
     "execution_count": 40,
     "metadata": {},
     "output_type": "execute_result"
    }
   ],
   "source": [
    "dt1"
   ]
  },
  {
   "cell_type": "code",
   "execution_count": 41,
   "metadata": {},
   "outputs": [],
   "source": [
    "dt1=pd.read_csv(StringIO(data), dtype={'col1':object,'col2':object,'col3':'Int64'})"
   ]
  },
  {
   "cell_type": "code",
   "execution_count": 42,
   "metadata": {},
   "outputs": [
    {
     "data": {
      "text/html": [
       "<div>\n",
       "<style scoped>\n",
       "    .dataframe tbody tr th:only-of-type {\n",
       "        vertical-align: middle;\n",
       "    }\n",
       "\n",
       "    .dataframe tbody tr th {\n",
       "        vertical-align: top;\n",
       "    }\n",
       "\n",
       "    .dataframe thead th {\n",
       "        text-align: right;\n",
       "    }\n",
       "</style>\n",
       "<table border=\"1\" class=\"dataframe\">\n",
       "  <thead>\n",
       "    <tr style=\"text-align: right;\">\n",
       "      <th></th>\n",
       "      <th>col1</th>\n",
       "      <th>col2</th>\n",
       "      <th>col3</th>\n",
       "    </tr>\n",
       "  </thead>\n",
       "  <tbody>\n",
       "    <tr>\n",
       "      <th>0</th>\n",
       "      <td>x</td>\n",
       "      <td>y</td>\n",
       "      <td>1</td>\n",
       "    </tr>\n",
       "    <tr>\n",
       "      <th>1</th>\n",
       "      <td>a</td>\n",
       "      <td>b</td>\n",
       "      <td>2</td>\n",
       "    </tr>\n",
       "    <tr>\n",
       "      <th>2</th>\n",
       "      <td>c</td>\n",
       "      <td>d</td>\n",
       "      <td>3</td>\n",
       "    </tr>\n",
       "  </tbody>\n",
       "</table>\n",
       "</div>"
      ],
      "text/plain": [
       "  col1 col2  col3\n",
       "0    x    y     1\n",
       "1    a    b     2\n",
       "2    c    d     3"
      ]
     },
     "execution_count": 42,
     "metadata": {},
     "output_type": "execute_result"
    }
   ],
   "source": [
    "dt1"
   ]
  },
  {
   "cell_type": "code",
   "execution_count": 55,
   "metadata": {},
   "outputs": [
    {
     "data": {
      "text/plain": [
       "2"
      ]
     },
     "execution_count": 55,
     "metadata": {},
     "output_type": "execute_result"
    }
   ],
   "source": [
    "dt1['col3'][1]"
   ]
  },
  {
   "cell_type": "code",
   "execution_count": 45,
   "metadata": {},
   "outputs": [
    {
     "data": {
      "text/plain": [
       "Country / territory           object\n",
       "Measure Names                 object\n",
       "Month of Date                 object\n",
       "Report Epi Week                int64\n",
       "Year of Date                   int64\n",
       "Country / territory.1         object\n",
       "Date                          object\n",
       "Measure Values                object\n",
       "Laboratory confirmed cases     int64\n",
       "Suspected cases               object\n",
       "dtype: object"
      ]
     },
     "execution_count": 45,
     "metadata": {},
     "output_type": "execute_result"
    }
   ],
   "source": [
    "df.dtypes"
   ]
  },
  {
   "cell_type": "code",
   "execution_count": 48,
   "metadata": {},
   "outputs": [
    {
     "data": {
      "text/html": [
       "<div>\n",
       "<style scoped>\n",
       "    .dataframe tbody tr th:only-of-type {\n",
       "        vertical-align: middle;\n",
       "    }\n",
       "\n",
       "    .dataframe tbody tr th {\n",
       "        vertical-align: top;\n",
       "    }\n",
       "\n",
       "    .dataframe thead th {\n",
       "        text-align: right;\n",
       "    }\n",
       "</style>\n",
       "<table border=\"1\" class=\"dataframe\">\n",
       "  <thead>\n",
       "    <tr style=\"text-align: right;\">\n",
       "      <th></th>\n",
       "      <th>a</th>\n",
       "      <th>b</th>\n",
       "      <th>c</th>\n",
       "    </tr>\n",
       "    <tr>\n",
       "      <th>index</th>\n",
       "      <th></th>\n",
       "      <th></th>\n",
       "      <th></th>\n",
       "    </tr>\n",
       "  </thead>\n",
       "  <tbody>\n",
       "    <tr>\n",
       "      <th>4</th>\n",
       "      <td>Apple</td>\n",
       "      <td>bat</td>\n",
       "      <td>5.7</td>\n",
       "    </tr>\n",
       "    <tr>\n",
       "      <th>8</th>\n",
       "      <td>Orange</td>\n",
       "      <td>cow</td>\n",
       "      <td>10.0</td>\n",
       "    </tr>\n",
       "  </tbody>\n",
       "</table>\n",
       "</div>"
      ],
      "text/plain": [
       "            a    b     c\n",
       "index                   \n",
       "4       Apple  bat   5.7\n",
       "8      Orange  cow  10.0"
      ]
     },
     "execution_count": 48,
     "metadata": {},
     "output_type": "execute_result"
    }
   ],
   "source": [
    "data1 = ('index,a,b,c\\n'\n",
    "        '4,Apple,bat,5.7\\n'\n",
    "        '8,Orange,cow,10')\n",
    "pd.read_csv(StringIO(data1), index_col=0)"
   ]
  },
  {
   "cell_type": "code",
   "execution_count": 49,
   "metadata": {},
   "outputs": [
    {
     "data": {
      "text/html": [
       "<div>\n",
       "<style scoped>\n",
       "    .dataframe tbody tr th:only-of-type {\n",
       "        vertical-align: middle;\n",
       "    }\n",
       "\n",
       "    .dataframe tbody tr th {\n",
       "        vertical-align: top;\n",
       "    }\n",
       "\n",
       "    .dataframe thead th {\n",
       "        text-align: right;\n",
       "    }\n",
       "</style>\n",
       "<table border=\"1\" class=\"dataframe\">\n",
       "  <thead>\n",
       "    <tr style=\"text-align: right;\">\n",
       "      <th></th>\n",
       "      <th>index</th>\n",
       "      <th>a</th>\n",
       "      <th>b</th>\n",
       "      <th>c</th>\n",
       "    </tr>\n",
       "  </thead>\n",
       "  <tbody>\n",
       "    <tr>\n",
       "      <th>0</th>\n",
       "      <td>4</td>\n",
       "      <td>Apple</td>\n",
       "      <td>bat</td>\n",
       "      <td>5.7</td>\n",
       "    </tr>\n",
       "    <tr>\n",
       "      <th>1</th>\n",
       "      <td>8</td>\n",
       "      <td>Orange</td>\n",
       "      <td>cow</td>\n",
       "      <td>10.0</td>\n",
       "    </tr>\n",
       "  </tbody>\n",
       "</table>\n",
       "</div>"
      ],
      "text/plain": [
       "   index       a    b     c\n",
       "0      4   Apple  bat   5.7\n",
       "1      8  Orange  cow  10.0"
      ]
     },
     "execution_count": 49,
     "metadata": {},
     "output_type": "execute_result"
    }
   ],
   "source": [
    "data1 = ('index,a,b,c\\n'\n",
    "        '4,Apple,bat,5.7\\n'\n",
    "        '8,Orange,cow,10')\n",
    "pd.read_csv(StringIO(data1), index_col=False)"
   ]
  },
  {
   "cell_type": "code",
   "execution_count": 50,
   "metadata": {},
   "outputs": [
    {
     "data": {
      "text/html": [
       "<div>\n",
       "<style scoped>\n",
       "    .dataframe tbody tr th:only-of-type {\n",
       "        vertical-align: middle;\n",
       "    }\n",
       "\n",
       "    .dataframe tbody tr th {\n",
       "        vertical-align: top;\n",
       "    }\n",
       "\n",
       "    .dataframe thead th {\n",
       "        text-align: right;\n",
       "    }\n",
       "</style>\n",
       "<table border=\"1\" class=\"dataframe\">\n",
       "  <thead>\n",
       "    <tr style=\"text-align: right;\">\n",
       "      <th></th>\n",
       "      <th>a</th>\n",
       "      <th>b</th>\n",
       "    </tr>\n",
       "  </thead>\n",
       "  <tbody>\n",
       "    <tr>\n",
       "      <th>0</th>\n",
       "      <td>hello, \"Bob\",nice to see you</td>\n",
       "      <td>5</td>\n",
       "    </tr>\n",
       "  </tbody>\n",
       "</table>\n",
       "</div>"
      ],
      "text/plain": [
       "                              a  b\n",
       "0  hello, \"Bob\",nice to see you  5"
      ]
     },
     "execution_count": 50,
     "metadata": {},
     "output_type": "execute_result"
    }
   ],
   "source": [
    "data2 = 'a,b\\n\"hello, \\\\\"Bob\\\\\",nice to see you\",5'\n",
    "pd.read_csv(StringIO(data2), escapechar='\\\\')"
   ]
  },
  {
   "cell_type": "markdown",
   "metadata": {},
   "source": [
    "# Read Json to CSV"
   ]
  },
  {
   "cell_type": "code",
   "execution_count": 59,
   "metadata": {},
   "outputs": [
    {
     "data": {
      "text/html": [
       "<div>\n",
       "<style scoped>\n",
       "    .dataframe tbody tr th:only-of-type {\n",
       "        vertical-align: middle;\n",
       "    }\n",
       "\n",
       "    .dataframe tbody tr th {\n",
       "        vertical-align: top;\n",
       "    }\n",
       "\n",
       "    .dataframe thead th {\n",
       "        text-align: right;\n",
       "    }\n",
       "</style>\n",
       "<table border=\"1\" class=\"dataframe\">\n",
       "  <thead>\n",
       "    <tr style=\"text-align: right;\">\n",
       "      <th></th>\n",
       "      <th>1</th>\n",
       "      <th>14.23</th>\n",
       "      <th>1.71</th>\n",
       "      <th>2.43</th>\n",
       "      <th>15.6</th>\n",
       "      <th>127</th>\n",
       "      <th>2.8</th>\n",
       "      <th>3.06</th>\n",
       "      <th>.28</th>\n",
       "      <th>2.29</th>\n",
       "      <th>5.64</th>\n",
       "      <th>1.04</th>\n",
       "      <th>3.92</th>\n",
       "      <th>1065</th>\n",
       "    </tr>\n",
       "  </thead>\n",
       "  <tbody>\n",
       "    <tr>\n",
       "      <th>0</th>\n",
       "      <td>1</td>\n",
       "      <td>13.20</td>\n",
       "      <td>1.78</td>\n",
       "      <td>2.14</td>\n",
       "      <td>11.2</td>\n",
       "      <td>100</td>\n",
       "      <td>2.65</td>\n",
       "      <td>2.76</td>\n",
       "      <td>0.26</td>\n",
       "      <td>1.28</td>\n",
       "      <td>4.38</td>\n",
       "      <td>1.05</td>\n",
       "      <td>3.40</td>\n",
       "      <td>1050</td>\n",
       "    </tr>\n",
       "    <tr>\n",
       "      <th>1</th>\n",
       "      <td>1</td>\n",
       "      <td>13.16</td>\n",
       "      <td>2.36</td>\n",
       "      <td>2.67</td>\n",
       "      <td>18.6</td>\n",
       "      <td>101</td>\n",
       "      <td>2.80</td>\n",
       "      <td>3.24</td>\n",
       "      <td>0.30</td>\n",
       "      <td>2.81</td>\n",
       "      <td>5.68</td>\n",
       "      <td>1.03</td>\n",
       "      <td>3.17</td>\n",
       "      <td>1185</td>\n",
       "    </tr>\n",
       "    <tr>\n",
       "      <th>2</th>\n",
       "      <td>1</td>\n",
       "      <td>14.37</td>\n",
       "      <td>1.95</td>\n",
       "      <td>2.50</td>\n",
       "      <td>16.8</td>\n",
       "      <td>113</td>\n",
       "      <td>3.85</td>\n",
       "      <td>3.49</td>\n",
       "      <td>0.24</td>\n",
       "      <td>2.18</td>\n",
       "      <td>7.80</td>\n",
       "      <td>0.86</td>\n",
       "      <td>3.45</td>\n",
       "      <td>1480</td>\n",
       "    </tr>\n",
       "    <tr>\n",
       "      <th>3</th>\n",
       "      <td>1</td>\n",
       "      <td>13.24</td>\n",
       "      <td>2.59</td>\n",
       "      <td>2.87</td>\n",
       "      <td>21.0</td>\n",
       "      <td>118</td>\n",
       "      <td>2.80</td>\n",
       "      <td>2.69</td>\n",
       "      <td>0.39</td>\n",
       "      <td>1.82</td>\n",
       "      <td>4.32</td>\n",
       "      <td>1.04</td>\n",
       "      <td>2.93</td>\n",
       "      <td>735</td>\n",
       "    </tr>\n",
       "    <tr>\n",
       "      <th>4</th>\n",
       "      <td>1</td>\n",
       "      <td>14.20</td>\n",
       "      <td>1.76</td>\n",
       "      <td>2.45</td>\n",
       "      <td>15.2</td>\n",
       "      <td>112</td>\n",
       "      <td>3.27</td>\n",
       "      <td>3.39</td>\n",
       "      <td>0.34</td>\n",
       "      <td>1.97</td>\n",
       "      <td>6.75</td>\n",
       "      <td>1.05</td>\n",
       "      <td>2.85</td>\n",
       "      <td>1450</td>\n",
       "    </tr>\n",
       "  </tbody>\n",
       "</table>\n",
       "</div>"
      ],
      "text/plain": [
       "   1  14.23  1.71  2.43  15.6  127   2.8  3.06   .28  2.29  5.64  1.04  3.92  \\\n",
       "0  1  13.20  1.78  2.14  11.2  100  2.65  2.76  0.26  1.28  4.38  1.05  3.40   \n",
       "1  1  13.16  2.36  2.67  18.6  101  2.80  3.24  0.30  2.81  5.68  1.03  3.17   \n",
       "2  1  14.37  1.95  2.50  16.8  113  3.85  3.49  0.24  2.18  7.80  0.86  3.45   \n",
       "3  1  13.24  2.59  2.87  21.0  118  2.80  2.69  0.39  1.82  4.32  1.04  2.93   \n",
       "4  1  14.20  1.76  2.45  15.2  112  3.27  3.39  0.34  1.97  6.75  1.05  2.85   \n",
       "\n",
       "   1065  \n",
       "0  1050  \n",
       "1  1185  \n",
       "2  1480  \n",
       "3   735  \n",
       "4  1450  "
      ]
     },
     "execution_count": 59,
     "metadata": {},
     "output_type": "execute_result"
    }
   ],
   "source": [
    "djson = pd.read_csv('https://archive.ics.uci.edu/ml/machine-learning-databases/wine/wine.data')\n",
    "djson.head()"
   ]
  },
  {
   "cell_type": "code",
   "execution_count": 60,
   "metadata": {},
   "outputs": [],
   "source": [
    "djson.to_csv('winedata.csv')"
   ]
  },
  {
   "cell_type": "code",
   "execution_count": 66,
   "metadata": {},
   "outputs": [
    {
     "data": {
      "text/plain": [
       "'{\"0\":{\"1\":1,\"14.23\":13.2,\"1.71\":1.78,\"2.43\":2.14,\"15.6\":11.2,\"127\":100,\"2.8\":2.65,\"3.06\":2.76,\".28\":0.26,\"2.29\":1.28,\"5.64\":4.38,\"1.04\":1.05,\"3.92\":3.4,\"1065\":1050},\"1\":{\"1\":1,\"14.23\":13.16,\"1.71\":2.36,\"2.43\":2.67,\"15.6\":18.6,\"127\":101,\"2.8\":2.8,\"3.06\":3.24,\".28\":0.3,\"2.29\":2.81,\"5.64\":5.68,\"1.04\":1.03,\"3.92\":3.17,\"1065\":1185},\"2\":{\"1\":1,\"14.23\":14.37,\"1.71\":1.95,\"2.43\":2.5,\"15.6\":16.8,\"127\":113,\"2.8\":3.85,\"3.06\":3.49,\".28\":0.24,\"2.29\":2.18,\"5.64\":7.8,\"1.04\":0.86,\"3.92\":3.45,\"1065\":1480},\"3\":{\"1\":1,\"14.23\":13.24,\"1.71\":2.59,\"2.43\":2.87,\"15.6\":21.0,\"127\":118,\"2.8\":2.8,\"3.06\":2.69,\".28\":0.39,\"2.29\":1.82,\"5.64\":4.32,\"1.04\":1.04,\"3.92\":2.93,\"1065\":735},\"4\":{\"1\":1,\"14.23\":14.2,\"1.71\":1.76,\"2.43\":2.45,\"15.6\":15.2,\"127\":112,\"2.8\":3.27,\"3.06\":3.39,\".28\":0.34,\"2.29\":1.97,\"5.64\":6.75,\"1.04\":1.05,\"3.92\":2.85,\"1065\":1450},\"5\":{\"1\":1,\"14.23\":14.39,\"1.71\":1.87,\"2.43\":2.45,\"15.6\":14.6,\"127\":96,\"2.8\":2.5,\"3.06\":2.52,\".28\":0.3,\"2.29\":1.98,\"5.64\":5.25,\"1.04\":1.02,\"3.92\":3.58,\"1065\":1290},\"6\":{\"1\":1,\"14.23\":14.06,\"1.71\":2.15,\"2.43\":2.61,\"15.6\":17.6,\"127\":121,\"2.8\":2.6,\"3.06\":2.51,\".28\":0.31,\"2.29\":1.25,\"5.64\":5.05,\"1.04\":1.06,\"3.92\":3.58,\"1065\":1295},\"7\":{\"1\":1,\"14.23\":14.83,\"1.71\":1.64,\"2.43\":2.17,\"15.6\":14.0,\"127\":97,\"2.8\":2.8,\"3.06\":2.98,\".28\":0.29,\"2.29\":1.98,\"5.64\":5.2,\"1.04\":1.08,\"3.92\":2.85,\"1065\":1045},\"8\":{\"1\":1,\"14.23\":13.86,\"1.71\":1.35,\"2.43\":2.27,\"15.6\":16.0,\"127\":98,\"2.8\":2.98,\"3.06\":3.15,\".28\":0.22,\"2.29\":1.85,\"5.64\":7.22,\"1.04\":1.01,\"3.92\":3.55,\"1065\":1045},\"9\":{\"1\":1,\"14.23\":14.1,\"1.71\":2.16,\"2.43\":2.3,\"15.6\":18.0,\"127\":105,\"2.8\":2.95,\"3.06\":3.32,\".28\":0.22,\"2.29\":2.38,\"5.64\":5.75,\"1.04\":1.25,\"3.92\":3.17,\"1065\":1510},\"10\":{\"1\":1,\"14.23\":14.12,\"1.71\":1.48,\"2.43\":2.32,\"15.6\":16.8,\"127\":95,\"2.8\":2.2,\"3.06\":2.43,\".28\":0.26,\"2.29\":1.57,\"5.64\":5.0,\"1.04\":1.17,\"3.92\":2.82,\"1065\":1280},\"11\":{\"1\":1,\"14.23\":13.75,\"1.71\":1.73,\"2.43\":2.41,\"15.6\":16.0,\"127\":89,\"2.8\":2.6,\"3.06\":2.76,\".28\":0.29,\"2.29\":1.81,\"5.64\":5.6,\"1.04\":1.15,\"3.92\":2.9,\"1065\":1320},\"12\":{\"1\":1,\"14.23\":14.75,\"1.71\":1.73,\"2.43\":2.39,\"15.6\":11.4,\"127\":91,\"2.8\":3.1,\"3.06\":3.69,\".28\":0.43,\"2.29\":2.81,\"5.64\":5.4,\"1.04\":1.25,\"3.92\":2.73,\"1065\":1150},\"13\":{\"1\":1,\"14.23\":14.38,\"1.71\":1.87,\"2.43\":2.38,\"15.6\":12.0,\"127\":102,\"2.8\":3.3,\"3.06\":3.64,\".28\":0.29,\"2.29\":2.96,\"5.64\":7.5,\"1.04\":1.2,\"3.92\":3.0,\"1065\":1547},\"14\":{\"1\":1,\"14.23\":13.63,\"1.71\":1.81,\"2.43\":2.7,\"15.6\":17.2,\"127\":112,\"2.8\":2.85,\"3.06\":2.91,\".28\":0.3,\"2.29\":1.46,\"5.64\":7.3,\"1.04\":1.28,\"3.92\":2.88,\"1065\":1310},\"15\":{\"1\":1,\"14.23\":14.3,\"1.71\":1.92,\"2.43\":2.72,\"15.6\":20.0,\"127\":120,\"2.8\":2.8,\"3.06\":3.14,\".28\":0.33,\"2.29\":1.97,\"5.64\":6.2,\"1.04\":1.07,\"3.92\":2.65,\"1065\":1280},\"16\":{\"1\":1,\"14.23\":13.83,\"1.71\":1.57,\"2.43\":2.62,\"15.6\":20.0,\"127\":115,\"2.8\":2.95,\"3.06\":3.4,\".28\":0.4,\"2.29\":1.72,\"5.64\":6.6,\"1.04\":1.13,\"3.92\":2.57,\"1065\":1130},\"17\":{\"1\":1,\"14.23\":14.19,\"1.71\":1.59,\"2.43\":2.48,\"15.6\":16.5,\"127\":108,\"2.8\":3.3,\"3.06\":3.93,\".28\":0.32,\"2.29\":1.86,\"5.64\":8.7,\"1.04\":1.23,\"3.92\":2.82,\"1065\":1680},\"18\":{\"1\":1,\"14.23\":13.64,\"1.71\":3.1,\"2.43\":2.56,\"15.6\":15.2,\"127\":116,\"2.8\":2.7,\"3.06\":3.03,\".28\":0.17,\"2.29\":1.66,\"5.64\":5.1,\"1.04\":0.96,\"3.92\":3.36,\"1065\":845},\"19\":{\"1\":1,\"14.23\":14.06,\"1.71\":1.63,\"2.43\":2.28,\"15.6\":16.0,\"127\":126,\"2.8\":3.0,\"3.06\":3.17,\".28\":0.24,\"2.29\":2.1,\"5.64\":5.65,\"1.04\":1.09,\"3.92\":3.71,\"1065\":780},\"20\":{\"1\":1,\"14.23\":12.93,\"1.71\":3.8,\"2.43\":2.65,\"15.6\":18.6,\"127\":102,\"2.8\":2.41,\"3.06\":2.41,\".28\":0.25,\"2.29\":1.98,\"5.64\":4.5,\"1.04\":1.03,\"3.92\":3.52,\"1065\":770},\"21\":{\"1\":1,\"14.23\":13.71,\"1.71\":1.86,\"2.43\":2.36,\"15.6\":16.6,\"127\":101,\"2.8\":2.61,\"3.06\":2.88,\".28\":0.27,\"2.29\":1.69,\"5.64\":3.8,\"1.04\":1.11,\"3.92\":4.0,\"1065\":1035},\"22\":{\"1\":1,\"14.23\":12.85,\"1.71\":1.6,\"2.43\":2.52,\"15.6\":17.8,\"127\":95,\"2.8\":2.48,\"3.06\":2.37,\".28\":0.26,\"2.29\":1.46,\"5.64\":3.93,\"1.04\":1.09,\"3.92\":3.63,\"1065\":1015},\"23\":{\"1\":1,\"14.23\":13.5,\"1.71\":1.81,\"2.43\":2.61,\"15.6\":20.0,\"127\":96,\"2.8\":2.53,\"3.06\":2.61,\".28\":0.28,\"2.29\":1.66,\"5.64\":3.52,\"1.04\":1.12,\"3.92\":3.82,\"1065\":845},\"24\":{\"1\":1,\"14.23\":13.05,\"1.71\":2.05,\"2.43\":3.22,\"15.6\":25.0,\"127\":124,\"2.8\":2.63,\"3.06\":2.68,\".28\":0.47,\"2.29\":1.92,\"5.64\":3.58,\"1.04\":1.13,\"3.92\":3.2,\"1065\":830},\"25\":{\"1\":1,\"14.23\":13.39,\"1.71\":1.77,\"2.43\":2.62,\"15.6\":16.1,\"127\":93,\"2.8\":2.85,\"3.06\":2.94,\".28\":0.34,\"2.29\":1.45,\"5.64\":4.8,\"1.04\":0.92,\"3.92\":3.22,\"1065\":1195},\"26\":{\"1\":1,\"14.23\":13.3,\"1.71\":1.72,\"2.43\":2.14,\"15.6\":17.0,\"127\":94,\"2.8\":2.4,\"3.06\":2.19,\".28\":0.27,\"2.29\":1.35,\"5.64\":3.95,\"1.04\":1.02,\"3.92\":2.77,\"1065\":1285},\"27\":{\"1\":1,\"14.23\":13.87,\"1.71\":1.9,\"2.43\":2.8,\"15.6\":19.4,\"127\":107,\"2.8\":2.95,\"3.06\":2.97,\".28\":0.37,\"2.29\":1.76,\"5.64\":4.5,\"1.04\":1.25,\"3.92\":3.4,\"1065\":915},\"28\":{\"1\":1,\"14.23\":14.02,\"1.71\":1.68,\"2.43\":2.21,\"15.6\":16.0,\"127\":96,\"2.8\":2.65,\"3.06\":2.33,\".28\":0.26,\"2.29\":1.98,\"5.64\":4.7,\"1.04\":1.04,\"3.92\":3.59,\"1065\":1035},\"29\":{\"1\":1,\"14.23\":13.73,\"1.71\":1.5,\"2.43\":2.7,\"15.6\":22.5,\"127\":101,\"2.8\":3.0,\"3.06\":3.25,\".28\":0.29,\"2.29\":2.38,\"5.64\":5.7,\"1.04\":1.19,\"3.92\":2.71,\"1065\":1285},\"30\":{\"1\":1,\"14.23\":13.58,\"1.71\":1.66,\"2.43\":2.36,\"15.6\":19.1,\"127\":106,\"2.8\":2.86,\"3.06\":3.19,\".28\":0.22,\"2.29\":1.95,\"5.64\":6.9,\"1.04\":1.09,\"3.92\":2.88,\"1065\":1515},\"31\":{\"1\":1,\"14.23\":13.68,\"1.71\":1.83,\"2.43\":2.36,\"15.6\":17.2,\"127\":104,\"2.8\":2.42,\"3.06\":2.69,\".28\":0.42,\"2.29\":1.97,\"5.64\":3.84,\"1.04\":1.23,\"3.92\":2.87,\"1065\":990},\"32\":{\"1\":1,\"14.23\":13.76,\"1.71\":1.53,\"2.43\":2.7,\"15.6\":19.5,\"127\":132,\"2.8\":2.95,\"3.06\":2.74,\".28\":0.5,\"2.29\":1.35,\"5.64\":5.4,\"1.04\":1.25,\"3.92\":3.0,\"1065\":1235},\"33\":{\"1\":1,\"14.23\":13.51,\"1.71\":1.8,\"2.43\":2.65,\"15.6\":19.0,\"127\":110,\"2.8\":2.35,\"3.06\":2.53,\".28\":0.29,\"2.29\":1.54,\"5.64\":4.2,\"1.04\":1.1,\"3.92\":2.87,\"1065\":1095},\"34\":{\"1\":1,\"14.23\":13.48,\"1.71\":1.81,\"2.43\":2.41,\"15.6\":20.5,\"127\":100,\"2.8\":2.7,\"3.06\":2.98,\".28\":0.26,\"2.29\":1.86,\"5.64\":5.1,\"1.04\":1.04,\"3.92\":3.47,\"1065\":920},\"35\":{\"1\":1,\"14.23\":13.28,\"1.71\":1.64,\"2.43\":2.84,\"15.6\":15.5,\"127\":110,\"2.8\":2.6,\"3.06\":2.68,\".28\":0.34,\"2.29\":1.36,\"5.64\":4.6,\"1.04\":1.09,\"3.92\":2.78,\"1065\":880},\"36\":{\"1\":1,\"14.23\":13.05,\"1.71\":1.65,\"2.43\":2.55,\"15.6\":18.0,\"127\":98,\"2.8\":2.45,\"3.06\":2.43,\".28\":0.29,\"2.29\":1.44,\"5.64\":4.25,\"1.04\":1.12,\"3.92\":2.51,\"1065\":1105},\"37\":{\"1\":1,\"14.23\":13.07,\"1.71\":1.5,\"2.43\":2.1,\"15.6\":15.5,\"127\":98,\"2.8\":2.4,\"3.06\":2.64,\".28\":0.28,\"2.29\":1.37,\"5.64\":3.7,\"1.04\":1.18,\"3.92\":2.69,\"1065\":1020},\"38\":{\"1\":1,\"14.23\":14.22,\"1.71\":3.99,\"2.43\":2.51,\"15.6\":13.2,\"127\":128,\"2.8\":3.0,\"3.06\":3.04,\".28\":0.2,\"2.29\":2.08,\"5.64\":5.1,\"1.04\":0.89,\"3.92\":3.53,\"1065\":760},\"39\":{\"1\":1,\"14.23\":13.56,\"1.71\":1.71,\"2.43\":2.31,\"15.6\":16.2,\"127\":117,\"2.8\":3.15,\"3.06\":3.29,\".28\":0.34,\"2.29\":2.34,\"5.64\":6.13,\"1.04\":0.95,\"3.92\":3.38,\"1065\":795},\"40\":{\"1\":1,\"14.23\":13.41,\"1.71\":3.84,\"2.43\":2.12,\"15.6\":18.8,\"127\":90,\"2.8\":2.45,\"3.06\":2.68,\".28\":0.27,\"2.29\":1.48,\"5.64\":4.28,\"1.04\":0.91,\"3.92\":3.0,\"1065\":1035},\"41\":{\"1\":1,\"14.23\":13.88,\"1.71\":1.89,\"2.43\":2.59,\"15.6\":15.0,\"127\":101,\"2.8\":3.25,\"3.06\":3.56,\".28\":0.17,\"2.29\":1.7,\"5.64\":5.43,\"1.04\":0.88,\"3.92\":3.56,\"1065\":1095},\"42\":{\"1\":1,\"14.23\":13.24,\"1.71\":3.98,\"2.43\":2.29,\"15.6\":17.5,\"127\":103,\"2.8\":2.64,\"3.06\":2.63,\".28\":0.32,\"2.29\":1.66,\"5.64\":4.36,\"1.04\":0.82,\"3.92\":3.0,\"1065\":680},\"43\":{\"1\":1,\"14.23\":13.05,\"1.71\":1.77,\"2.43\":2.1,\"15.6\":17.0,\"127\":107,\"2.8\":3.0,\"3.06\":3.0,\".28\":0.28,\"2.29\":2.03,\"5.64\":5.04,\"1.04\":0.88,\"3.92\":3.35,\"1065\":885},\"44\":{\"1\":1,\"14.23\":14.21,\"1.71\":4.04,\"2.43\":2.44,\"15.6\":18.9,\"127\":111,\"2.8\":2.85,\"3.06\":2.65,\".28\":0.3,\"2.29\":1.25,\"5.64\":5.24,\"1.04\":0.87,\"3.92\":3.33,\"1065\":1080},\"45\":{\"1\":1,\"14.23\":14.38,\"1.71\":3.59,\"2.43\":2.28,\"15.6\":16.0,\"127\":102,\"2.8\":3.25,\"3.06\":3.17,\".28\":0.27,\"2.29\":2.19,\"5.64\":4.9,\"1.04\":1.04,\"3.92\":3.44,\"1065\":1065},\"46\":{\"1\":1,\"14.23\":13.9,\"1.71\":1.68,\"2.43\":2.12,\"15.6\":16.0,\"127\":101,\"2.8\":3.1,\"3.06\":3.39,\".28\":0.21,\"2.29\":2.14,\"5.64\":6.1,\"1.04\":0.91,\"3.92\":3.33,\"1065\":985},\"47\":{\"1\":1,\"14.23\":14.1,\"1.71\":2.02,\"2.43\":2.4,\"15.6\":18.8,\"127\":103,\"2.8\":2.75,\"3.06\":2.92,\".28\":0.32,\"2.29\":2.38,\"5.64\":6.2,\"1.04\":1.07,\"3.92\":2.75,\"1065\":1060},\"48\":{\"1\":1,\"14.23\":13.94,\"1.71\":1.73,\"2.43\":2.27,\"15.6\":17.4,\"127\":108,\"2.8\":2.88,\"3.06\":3.54,\".28\":0.32,\"2.29\":2.08,\"5.64\":8.9,\"1.04\":1.12,\"3.92\":3.1,\"1065\":1260},\"49\":{\"1\":1,\"14.23\":13.05,\"1.71\":1.73,\"2.43\":2.04,\"15.6\":12.4,\"127\":92,\"2.8\":2.72,\"3.06\":3.27,\".28\":0.17,\"2.29\":2.91,\"5.64\":7.2,\"1.04\":1.12,\"3.92\":2.91,\"1065\":1150},\"50\":{\"1\":1,\"14.23\":13.83,\"1.71\":1.65,\"2.43\":2.6,\"15.6\":17.2,\"127\":94,\"2.8\":2.45,\"3.06\":2.99,\".28\":0.22,\"2.29\":2.29,\"5.64\":5.6,\"1.04\":1.24,\"3.92\":3.37,\"1065\":1265},\"51\":{\"1\":1,\"14.23\":13.82,\"1.71\":1.75,\"2.43\":2.42,\"15.6\":14.0,\"127\":111,\"2.8\":3.88,\"3.06\":3.74,\".28\":0.32,\"2.29\":1.87,\"5.64\":7.05,\"1.04\":1.01,\"3.92\":3.26,\"1065\":1190},\"52\":{\"1\":1,\"14.23\":13.77,\"1.71\":1.9,\"2.43\":2.68,\"15.6\":17.1,\"127\":115,\"2.8\":3.0,\"3.06\":2.79,\".28\":0.39,\"2.29\":1.68,\"5.64\":6.3,\"1.04\":1.13,\"3.92\":2.93,\"1065\":1375},\"53\":{\"1\":1,\"14.23\":13.74,\"1.71\":1.67,\"2.43\":2.25,\"15.6\":16.4,\"127\":118,\"2.8\":2.6,\"3.06\":2.9,\".28\":0.21,\"2.29\":1.62,\"5.64\":5.85,\"1.04\":0.92,\"3.92\":3.2,\"1065\":1060},\"54\":{\"1\":1,\"14.23\":13.56,\"1.71\":1.73,\"2.43\":2.46,\"15.6\":20.5,\"127\":116,\"2.8\":2.96,\"3.06\":2.78,\".28\":0.2,\"2.29\":2.45,\"5.64\":6.25,\"1.04\":0.98,\"3.92\":3.03,\"1065\":1120},\"55\":{\"1\":1,\"14.23\":14.22,\"1.71\":1.7,\"2.43\":2.3,\"15.6\":16.3,\"127\":118,\"2.8\":3.2,\"3.06\":3.0,\".28\":0.26,\"2.29\":2.03,\"5.64\":6.38,\"1.04\":0.94,\"3.92\":3.31,\"1065\":970},\"56\":{\"1\":1,\"14.23\":13.29,\"1.71\":1.97,\"2.43\":2.68,\"15.6\":16.8,\"127\":102,\"2.8\":3.0,\"3.06\":3.23,\".28\":0.31,\"2.29\":1.66,\"5.64\":6.0,\"1.04\":1.07,\"3.92\":2.84,\"1065\":1270},\"57\":{\"1\":1,\"14.23\":13.72,\"1.71\":1.43,\"2.43\":2.5,\"15.6\":16.7,\"127\":108,\"2.8\":3.4,\"3.06\":3.67,\".28\":0.19,\"2.29\":2.04,\"5.64\":6.8,\"1.04\":0.89,\"3.92\":2.87,\"1065\":1285},\"58\":{\"1\":2,\"14.23\":12.37,\"1.71\":0.94,\"2.43\":1.36,\"15.6\":10.6,\"127\":88,\"2.8\":1.98,\"3.06\":0.57,\".28\":0.28,\"2.29\":0.42,\"5.64\":1.95,\"1.04\":1.05,\"3.92\":1.82,\"1065\":520},\"59\":{\"1\":2,\"14.23\":12.33,\"1.71\":1.1,\"2.43\":2.28,\"15.6\":16.0,\"127\":101,\"2.8\":2.05,\"3.06\":1.09,\".28\":0.63,\"2.29\":0.41,\"5.64\":3.27,\"1.04\":1.25,\"3.92\":1.67,\"1065\":680},\"60\":{\"1\":2,\"14.23\":12.64,\"1.71\":1.36,\"2.43\":2.02,\"15.6\":16.8,\"127\":100,\"2.8\":2.02,\"3.06\":1.41,\".28\":0.53,\"2.29\":0.62,\"5.64\":5.75,\"1.04\":0.98,\"3.92\":1.59,\"1065\":450},\"61\":{\"1\":2,\"14.23\":13.67,\"1.71\":1.25,\"2.43\":1.92,\"15.6\":18.0,\"127\":94,\"2.8\":2.1,\"3.06\":1.79,\".28\":0.32,\"2.29\":0.73,\"5.64\":3.8,\"1.04\":1.23,\"3.92\":2.46,\"1065\":630},\"62\":{\"1\":2,\"14.23\":12.37,\"1.71\":1.13,\"2.43\":2.16,\"15.6\":19.0,\"127\":87,\"2.8\":3.5,\"3.06\":3.1,\".28\":0.19,\"2.29\":1.87,\"5.64\":4.45,\"1.04\":1.22,\"3.92\":2.87,\"1065\":420},\"63\":{\"1\":2,\"14.23\":12.17,\"1.71\":1.45,\"2.43\":2.53,\"15.6\":19.0,\"127\":104,\"2.8\":1.89,\"3.06\":1.75,\".28\":0.45,\"2.29\":1.03,\"5.64\":2.95,\"1.04\":1.45,\"3.92\":2.23,\"1065\":355},\"64\":{\"1\":2,\"14.23\":12.37,\"1.71\":1.21,\"2.43\":2.56,\"15.6\":18.1,\"127\":98,\"2.8\":2.42,\"3.06\":2.65,\".28\":0.37,\"2.29\":2.08,\"5.64\":4.6,\"1.04\":1.19,\"3.92\":2.3,\"1065\":678},\"65\":{\"1\":2,\"14.23\":13.11,\"1.71\":1.01,\"2.43\":1.7,\"15.6\":15.0,\"127\":78,\"2.8\":2.98,\"3.06\":3.18,\".28\":0.26,\"2.29\":2.28,\"5.64\":5.3,\"1.04\":1.12,\"3.92\":3.18,\"1065\":502},\"66\":{\"1\":2,\"14.23\":12.37,\"1.71\":1.17,\"2.43\":1.92,\"15.6\":19.6,\"127\":78,\"2.8\":2.11,\"3.06\":2.0,\".28\":0.27,\"2.29\":1.04,\"5.64\":4.68,\"1.04\":1.12,\"3.92\":3.48,\"1065\":510},\"67\":{\"1\":2,\"14.23\":13.34,\"1.71\":0.94,\"2.43\":2.36,\"15.6\":17.0,\"127\":110,\"2.8\":2.53,\"3.06\":1.3,\".28\":0.55,\"2.29\":0.42,\"5.64\":3.17,\"1.04\":1.02,\"3.92\":1.93,\"1065\":750},\"68\":{\"1\":2,\"14.23\":12.21,\"1.71\":1.19,\"2.43\":1.75,\"15.6\":16.8,\"127\":151,\"2.8\":1.85,\"3.06\":1.28,\".28\":0.14,\"2.29\":2.5,\"5.64\":2.85,\"1.04\":1.28,\"3.92\":3.07,\"1065\":718},\"69\":{\"1\":2,\"14.23\":12.29,\"1.71\":1.61,\"2.43\":2.21,\"15.6\":20.4,\"127\":103,\"2.8\":1.1,\"3.06\":1.02,\".28\":0.37,\"2.29\":1.46,\"5.64\":3.05,\"1.04\":0.906,\"3.92\":1.82,\"1065\":870},\"70\":{\"1\":2,\"14.23\":13.86,\"1.71\":1.51,\"2.43\":2.67,\"15.6\":25.0,\"127\":86,\"2.8\":2.95,\"3.06\":2.86,\".28\":0.21,\"2.29\":1.87,\"5.64\":3.38,\"1.04\":1.36,\"3.92\":3.16,\"1065\":410},\"71\":{\"1\":2,\"14.23\":13.49,\"1.71\":1.66,\"2.43\":2.24,\"15.6\":24.0,\"127\":87,\"2.8\":1.88,\"3.06\":1.84,\".28\":0.27,\"2.29\":1.03,\"5.64\":3.74,\"1.04\":0.98,\"3.92\":2.78,\"1065\":472},\"72\":{\"1\":2,\"14.23\":12.99,\"1.71\":1.67,\"2.43\":2.6,\"15.6\":30.0,\"127\":139,\"2.8\":3.3,\"3.06\":2.89,\".28\":0.21,\"2.29\":1.96,\"5.64\":3.35,\"1.04\":1.31,\"3.92\":3.5,\"1065\":985},\"73\":{\"1\":2,\"14.23\":11.96,\"1.71\":1.09,\"2.43\":2.3,\"15.6\":21.0,\"127\":101,\"2.8\":3.38,\"3.06\":2.14,\".28\":0.13,\"2.29\":1.65,\"5.64\":3.21,\"1.04\":0.99,\"3.92\":3.13,\"1065\":886},\"74\":{\"1\":2,\"14.23\":11.66,\"1.71\":1.88,\"2.43\":1.92,\"15.6\":16.0,\"127\":97,\"2.8\":1.61,\"3.06\":1.57,\".28\":0.34,\"2.29\":1.15,\"5.64\":3.8,\"1.04\":1.23,\"3.92\":2.14,\"1065\":428},\"75\":{\"1\":2,\"14.23\":13.03,\"1.71\":0.9,\"2.43\":1.71,\"15.6\":16.0,\"127\":86,\"2.8\":1.95,\"3.06\":2.03,\".28\":0.24,\"2.29\":1.46,\"5.64\":4.6,\"1.04\":1.19,\"3.92\":2.48,\"1065\":392},\"76\":{\"1\":2,\"14.23\":11.84,\"1.71\":2.89,\"2.43\":2.23,\"15.6\":18.0,\"127\":112,\"2.8\":1.72,\"3.06\":1.32,\".28\":0.43,\"2.29\":0.95,\"5.64\":2.65,\"1.04\":0.96,\"3.92\":2.52,\"1065\":500},\"77\":{\"1\":2,\"14.23\":12.33,\"1.71\":0.99,\"2.43\":1.95,\"15.6\":14.8,\"127\":136,\"2.8\":1.9,\"3.06\":1.85,\".28\":0.35,\"2.29\":2.76,\"5.64\":3.4,\"1.04\":1.06,\"3.92\":2.31,\"1065\":750},\"78\":{\"1\":2,\"14.23\":12.7,\"1.71\":3.87,\"2.43\":2.4,\"15.6\":23.0,\"127\":101,\"2.8\":2.83,\"3.06\":2.55,\".28\":0.43,\"2.29\":1.95,\"5.64\":2.57,\"1.04\":1.19,\"3.92\":3.13,\"1065\":463},\"79\":{\"1\":2,\"14.23\":12.0,\"1.71\":0.92,\"2.43\":2.0,\"15.6\":19.0,\"127\":86,\"2.8\":2.42,\"3.06\":2.26,\".28\":0.3,\"2.29\":1.43,\"5.64\":2.5,\"1.04\":1.38,\"3.92\":3.12,\"1065\":278},\"80\":{\"1\":2,\"14.23\":12.72,\"1.71\":1.81,\"2.43\":2.2,\"15.6\":18.8,\"127\":86,\"2.8\":2.2,\"3.06\":2.53,\".28\":0.26,\"2.29\":1.77,\"5.64\":3.9,\"1.04\":1.16,\"3.92\":3.14,\"1065\":714},\"81\":{\"1\":2,\"14.23\":12.08,\"1.71\":1.13,\"2.43\":2.51,\"15.6\":24.0,\"127\":78,\"2.8\":2.0,\"3.06\":1.58,\".28\":0.4,\"2.29\":1.4,\"5.64\":2.2,\"1.04\":1.31,\"3.92\":2.72,\"1065\":630},\"82\":{\"1\":2,\"14.23\":13.05,\"1.71\":3.86,\"2.43\":2.32,\"15.6\":22.5,\"127\":85,\"2.8\":1.65,\"3.06\":1.59,\".28\":0.61,\"2.29\":1.62,\"5.64\":4.8,\"1.04\":0.84,\"3.92\":2.01,\"1065\":515},\"83\":{\"1\":2,\"14.23\":11.84,\"1.71\":0.89,\"2.43\":2.58,\"15.6\":18.0,\"127\":94,\"2.8\":2.2,\"3.06\":2.21,\".28\":0.22,\"2.29\":2.35,\"5.64\":3.05,\"1.04\":0.79,\"3.92\":3.08,\"1065\":520},\"84\":{\"1\":2,\"14.23\":12.67,\"1.71\":0.98,\"2.43\":2.24,\"15.6\":18.0,\"127\":99,\"2.8\":2.2,\"3.06\":1.94,\".28\":0.3,\"2.29\":1.46,\"5.64\":2.62,\"1.04\":1.23,\"3.92\":3.16,\"1065\":450},\"85\":{\"1\":2,\"14.23\":12.16,\"1.71\":1.61,\"2.43\":2.31,\"15.6\":22.8,\"127\":90,\"2.8\":1.78,\"3.06\":1.69,\".28\":0.43,\"2.29\":1.56,\"5.64\":2.45,\"1.04\":1.33,\"3.92\":2.26,\"1065\":495},\"86\":{\"1\":2,\"14.23\":11.65,\"1.71\":1.67,\"2.43\":2.62,\"15.6\":26.0,\"127\":88,\"2.8\":1.92,\"3.06\":1.61,\".28\":0.4,\"2.29\":1.34,\"5.64\":2.6,\"1.04\":1.36,\"3.92\":3.21,\"1065\":562},\"87\":{\"1\":2,\"14.23\":11.64,\"1.71\":2.06,\"2.43\":2.46,\"15.6\":21.6,\"127\":84,\"2.8\":1.95,\"3.06\":1.69,\".28\":0.48,\"2.29\":1.35,\"5.64\":2.8,\"1.04\":1.0,\"3.92\":2.75,\"1065\":680},\"88\":{\"1\":2,\"14.23\":12.08,\"1.71\":1.33,\"2.43\":2.3,\"15.6\":23.6,\"127\":70,\"2.8\":2.2,\"3.06\":1.59,\".28\":0.42,\"2.29\":1.38,\"5.64\":1.74,\"1.04\":1.07,\"3.92\":3.21,\"1065\":625},\"89\":{\"1\":2,\"14.23\":12.08,\"1.71\":1.83,\"2.43\":2.32,\"15.6\":18.5,\"127\":81,\"2.8\":1.6,\"3.06\":1.5,\".28\":0.52,\"2.29\":1.64,\"5.64\":2.4,\"1.04\":1.08,\"3.92\":2.27,\"1065\":480},\"90\":{\"1\":2,\"14.23\":12.0,\"1.71\":1.51,\"2.43\":2.42,\"15.6\":22.0,\"127\":86,\"2.8\":1.45,\"3.06\":1.25,\".28\":0.5,\"2.29\":1.63,\"5.64\":3.6,\"1.04\":1.05,\"3.92\":2.65,\"1065\":450},\"91\":{\"1\":2,\"14.23\":12.69,\"1.71\":1.53,\"2.43\":2.26,\"15.6\":20.7,\"127\":80,\"2.8\":1.38,\"3.06\":1.46,\".28\":0.58,\"2.29\":1.62,\"5.64\":3.05,\"1.04\":0.96,\"3.92\":2.06,\"1065\":495},\"92\":{\"1\":2,\"14.23\":12.29,\"1.71\":2.83,\"2.43\":2.22,\"15.6\":18.0,\"127\":88,\"2.8\":2.45,\"3.06\":2.25,\".28\":0.25,\"2.29\":1.99,\"5.64\":2.15,\"1.04\":1.15,\"3.92\":3.3,\"1065\":290},\"93\":{\"1\":2,\"14.23\":11.62,\"1.71\":1.99,\"2.43\":2.28,\"15.6\":18.0,\"127\":98,\"2.8\":3.02,\"3.06\":2.26,\".28\":0.17,\"2.29\":1.35,\"5.64\":3.25,\"1.04\":1.16,\"3.92\":2.96,\"1065\":345},\"94\":{\"1\":2,\"14.23\":12.47,\"1.71\":1.52,\"2.43\":2.2,\"15.6\":19.0,\"127\":162,\"2.8\":2.5,\"3.06\":2.27,\".28\":0.32,\"2.29\":3.28,\"5.64\":2.6,\"1.04\":1.16,\"3.92\":2.63,\"1065\":937},\"95\":{\"1\":2,\"14.23\":11.81,\"1.71\":2.12,\"2.43\":2.74,\"15.6\":21.5,\"127\":134,\"2.8\":1.6,\"3.06\":0.99,\".28\":0.14,\"2.29\":1.56,\"5.64\":2.5,\"1.04\":0.95,\"3.92\":2.26,\"1065\":625},\"96\":{\"1\":2,\"14.23\":12.29,\"1.71\":1.41,\"2.43\":1.98,\"15.6\":16.0,\"127\":85,\"2.8\":2.55,\"3.06\":2.5,\".28\":0.29,\"2.29\":1.77,\"5.64\":2.9,\"1.04\":1.23,\"3.92\":2.74,\"1065\":428},\"97\":{\"1\":2,\"14.23\":12.37,\"1.71\":1.07,\"2.43\":2.1,\"15.6\":18.5,\"127\":88,\"2.8\":3.52,\"3.06\":3.75,\".28\":0.24,\"2.29\":1.95,\"5.64\":4.5,\"1.04\":1.04,\"3.92\":2.77,\"1065\":660},\"98\":{\"1\":2,\"14.23\":12.29,\"1.71\":3.17,\"2.43\":2.21,\"15.6\":18.0,\"127\":88,\"2.8\":2.85,\"3.06\":2.99,\".28\":0.45,\"2.29\":2.81,\"5.64\":2.3,\"1.04\":1.42,\"3.92\":2.83,\"1065\":406},\"99\":{\"1\":2,\"14.23\":12.08,\"1.71\":2.08,\"2.43\":1.7,\"15.6\":17.5,\"127\":97,\"2.8\":2.23,\"3.06\":2.17,\".28\":0.26,\"2.29\":1.4,\"5.64\":3.3,\"1.04\":1.27,\"3.92\":2.96,\"1065\":710},\"100\":{\"1\":2,\"14.23\":12.6,\"1.71\":1.34,\"2.43\":1.9,\"15.6\":18.5,\"127\":88,\"2.8\":1.45,\"3.06\":1.36,\".28\":0.29,\"2.29\":1.35,\"5.64\":2.45,\"1.04\":1.04,\"3.92\":2.77,\"1065\":562},\"101\":{\"1\":2,\"14.23\":12.34,\"1.71\":2.45,\"2.43\":2.46,\"15.6\":21.0,\"127\":98,\"2.8\":2.56,\"3.06\":2.11,\".28\":0.34,\"2.29\":1.31,\"5.64\":2.8,\"1.04\":0.8,\"3.92\":3.38,\"1065\":438},\"102\":{\"1\":2,\"14.23\":11.82,\"1.71\":1.72,\"2.43\":1.88,\"15.6\":19.5,\"127\":86,\"2.8\":2.5,\"3.06\":1.64,\".28\":0.37,\"2.29\":1.42,\"5.64\":2.06,\"1.04\":0.94,\"3.92\":2.44,\"1065\":415},\"103\":{\"1\":2,\"14.23\":12.51,\"1.71\":1.73,\"2.43\":1.98,\"15.6\":20.5,\"127\":85,\"2.8\":2.2,\"3.06\":1.92,\".28\":0.32,\"2.29\":1.48,\"5.64\":2.94,\"1.04\":1.04,\"3.92\":3.57,\"1065\":672},\"104\":{\"1\":2,\"14.23\":12.42,\"1.71\":2.55,\"2.43\":2.27,\"15.6\":22.0,\"127\":90,\"2.8\":1.68,\"3.06\":1.84,\".28\":0.66,\"2.29\":1.42,\"5.64\":2.7,\"1.04\":0.86,\"3.92\":3.3,\"1065\":315},\"105\":{\"1\":2,\"14.23\":12.25,\"1.71\":1.73,\"2.43\":2.12,\"15.6\":19.0,\"127\":80,\"2.8\":1.65,\"3.06\":2.03,\".28\":0.37,\"2.29\":1.63,\"5.64\":3.4,\"1.04\":1.0,\"3.92\":3.17,\"1065\":510},\"106\":{\"1\":2,\"14.23\":12.72,\"1.71\":1.75,\"2.43\":2.28,\"15.6\":22.5,\"127\":84,\"2.8\":1.38,\"3.06\":1.76,\".28\":0.48,\"2.29\":1.63,\"5.64\":3.3,\"1.04\":0.88,\"3.92\":2.42,\"1065\":488},\"107\":{\"1\":2,\"14.23\":12.22,\"1.71\":1.29,\"2.43\":1.94,\"15.6\":19.0,\"127\":92,\"2.8\":2.36,\"3.06\":2.04,\".28\":0.39,\"2.29\":2.08,\"5.64\":2.7,\"1.04\":0.86,\"3.92\":3.02,\"1065\":312},\"108\":{\"1\":2,\"14.23\":11.61,\"1.71\":1.35,\"2.43\":2.7,\"15.6\":20.0,\"127\":94,\"2.8\":2.74,\"3.06\":2.92,\".28\":0.29,\"2.29\":2.49,\"5.64\":2.65,\"1.04\":0.96,\"3.92\":3.26,\"1065\":680},\"109\":{\"1\":2,\"14.23\":11.46,\"1.71\":3.74,\"2.43\":1.82,\"15.6\":19.5,\"127\":107,\"2.8\":3.18,\"3.06\":2.58,\".28\":0.24,\"2.29\":3.58,\"5.64\":2.9,\"1.04\":0.75,\"3.92\":2.81,\"1065\":562},\"110\":{\"1\":2,\"14.23\":12.52,\"1.71\":2.43,\"2.43\":2.17,\"15.6\":21.0,\"127\":88,\"2.8\":2.55,\"3.06\":2.27,\".28\":0.26,\"2.29\":1.22,\"5.64\":2.0,\"1.04\":0.9,\"3.92\":2.78,\"1065\":325},\"111\":{\"1\":2,\"14.23\":11.76,\"1.71\":2.68,\"2.43\":2.92,\"15.6\":20.0,\"127\":103,\"2.8\":1.75,\"3.06\":2.03,\".28\":0.6,\"2.29\":1.05,\"5.64\":3.8,\"1.04\":1.23,\"3.92\":2.5,\"1065\":607},\"112\":{\"1\":2,\"14.23\":11.41,\"1.71\":0.74,\"2.43\":2.5,\"15.6\":21.0,\"127\":88,\"2.8\":2.48,\"3.06\":2.01,\".28\":0.42,\"2.29\":1.44,\"5.64\":3.08,\"1.04\":1.1,\"3.92\":2.31,\"1065\":434},\"113\":{\"1\":2,\"14.23\":12.08,\"1.71\":1.39,\"2.43\":2.5,\"15.6\":22.5,\"127\":84,\"2.8\":2.56,\"3.06\":2.29,\".28\":0.43,\"2.29\":1.04,\"5.64\":2.9,\"1.04\":0.93,\"3.92\":3.19,\"1065\":385},\"114\":{\"1\":2,\"14.23\":11.03,\"1.71\":1.51,\"2.43\":2.2,\"15.6\":21.5,\"127\":85,\"2.8\":2.46,\"3.06\":2.17,\".28\":0.52,\"2.29\":2.01,\"5.64\":1.9,\"1.04\":1.71,\"3.92\":2.87,\"1065\":407},\"115\":{\"1\":2,\"14.23\":11.82,\"1.71\":1.47,\"2.43\":1.99,\"15.6\":20.8,\"127\":86,\"2.8\":1.98,\"3.06\":1.6,\".28\":0.3,\"2.29\":1.53,\"5.64\":1.95,\"1.04\":0.95,\"3.92\":3.33,\"1065\":495},\"116\":{\"1\":2,\"14.23\":12.42,\"1.71\":1.61,\"2.43\":2.19,\"15.6\":22.5,\"127\":108,\"2.8\":2.0,\"3.06\":2.09,\".28\":0.34,\"2.29\":1.61,\"5.64\":2.06,\"1.04\":1.06,\"3.92\":2.96,\"1065\":345},\"117\":{\"1\":2,\"14.23\":12.77,\"1.71\":3.43,\"2.43\":1.98,\"15.6\":16.0,\"127\":80,\"2.8\":1.63,\"3.06\":1.25,\".28\":0.43,\"2.29\":0.83,\"5.64\":3.4,\"1.04\":0.7,\"3.92\":2.12,\"1065\":372},\"118\":{\"1\":2,\"14.23\":12.0,\"1.71\":3.43,\"2.43\":2.0,\"15.6\":19.0,\"127\":87,\"2.8\":2.0,\"3.06\":1.64,\".28\":0.37,\"2.29\":1.87,\"5.64\":1.28,\"1.04\":0.93,\"3.92\":3.05,\"1065\":564},\"119\":{\"1\":2,\"14.23\":11.45,\"1.71\":2.4,\"2.43\":2.42,\"15.6\":20.0,\"127\":96,\"2.8\":2.9,\"3.06\":2.79,\".28\":0.32,\"2.29\":1.83,\"5.64\":3.25,\"1.04\":0.8,\"3.92\":3.39,\"1065\":625},\"120\":{\"1\":2,\"14.23\":11.56,\"1.71\":2.05,\"2.43\":3.23,\"15.6\":28.5,\"127\":119,\"2.8\":3.18,\"3.06\":5.08,\".28\":0.47,\"2.29\":1.87,\"5.64\":6.0,\"1.04\":0.93,\"3.92\":3.69,\"1065\":465},\"121\":{\"1\":2,\"14.23\":12.42,\"1.71\":4.43,\"2.43\":2.73,\"15.6\":26.5,\"127\":102,\"2.8\":2.2,\"3.06\":2.13,\".28\":0.43,\"2.29\":1.71,\"5.64\":2.08,\"1.04\":0.92,\"3.92\":3.12,\"1065\":365},\"122\":{\"1\":2,\"14.23\":13.05,\"1.71\":5.8,\"2.43\":2.13,\"15.6\":21.5,\"127\":86,\"2.8\":2.62,\"3.06\":2.65,\".28\":0.3,\"2.29\":2.01,\"5.64\":2.6,\"1.04\":0.73,\"3.92\":3.1,\"1065\":380},\"123\":{\"1\":2,\"14.23\":11.87,\"1.71\":4.31,\"2.43\":2.39,\"15.6\":21.0,\"127\":82,\"2.8\":2.86,\"3.06\":3.03,\".28\":0.21,\"2.29\":2.91,\"5.64\":2.8,\"1.04\":0.75,\"3.92\":3.64,\"1065\":380},\"124\":{\"1\":2,\"14.23\":12.07,\"1.71\":2.16,\"2.43\":2.17,\"15.6\":21.0,\"127\":85,\"2.8\":2.6,\"3.06\":2.65,\".28\":0.37,\"2.29\":1.35,\"5.64\":2.76,\"1.04\":0.86,\"3.92\":3.28,\"1065\":378},\"125\":{\"1\":2,\"14.23\":12.43,\"1.71\":1.53,\"2.43\":2.29,\"15.6\":21.5,\"127\":86,\"2.8\":2.74,\"3.06\":3.15,\".28\":0.39,\"2.29\":1.77,\"5.64\":3.94,\"1.04\":0.69,\"3.92\":2.84,\"1065\":352},\"126\":{\"1\":2,\"14.23\":11.79,\"1.71\":2.13,\"2.43\":2.78,\"15.6\":28.5,\"127\":92,\"2.8\":2.13,\"3.06\":2.24,\".28\":0.58,\"2.29\":1.76,\"5.64\":3.0,\"1.04\":0.97,\"3.92\":2.44,\"1065\":466},\"127\":{\"1\":2,\"14.23\":12.37,\"1.71\":1.63,\"2.43\":2.3,\"15.6\":24.5,\"127\":88,\"2.8\":2.22,\"3.06\":2.45,\".28\":0.4,\"2.29\":1.9,\"5.64\":2.12,\"1.04\":0.89,\"3.92\":2.78,\"1065\":342},\"128\":{\"1\":2,\"14.23\":12.04,\"1.71\":4.3,\"2.43\":2.38,\"15.6\":22.0,\"127\":80,\"2.8\":2.1,\"3.06\":1.75,\".28\":0.42,\"2.29\":1.35,\"5.64\":2.6,\"1.04\":0.79,\"3.92\":2.57,\"1065\":580},\"129\":{\"1\":3,\"14.23\":12.86,\"1.71\":1.35,\"2.43\":2.32,\"15.6\":18.0,\"127\":122,\"2.8\":1.51,\"3.06\":1.25,\".28\":0.21,\"2.29\":0.94,\"5.64\":4.1,\"1.04\":0.76,\"3.92\":1.29,\"1065\":630},\"130\":{\"1\":3,\"14.23\":12.88,\"1.71\":2.99,\"2.43\":2.4,\"15.6\":20.0,\"127\":104,\"2.8\":1.3,\"3.06\":1.22,\".28\":0.24,\"2.29\":0.83,\"5.64\":5.4,\"1.04\":0.74,\"3.92\":1.42,\"1065\":530},\"131\":{\"1\":3,\"14.23\":12.81,\"1.71\":2.31,\"2.43\":2.4,\"15.6\":24.0,\"127\":98,\"2.8\":1.15,\"3.06\":1.09,\".28\":0.27,\"2.29\":0.83,\"5.64\":5.7,\"1.04\":0.66,\"3.92\":1.36,\"1065\":560},\"132\":{\"1\":3,\"14.23\":12.7,\"1.71\":3.55,\"2.43\":2.36,\"15.6\":21.5,\"127\":106,\"2.8\":1.7,\"3.06\":1.2,\".28\":0.17,\"2.29\":0.84,\"5.64\":5.0,\"1.04\":0.78,\"3.92\":1.29,\"1065\":600},\"133\":{\"1\":3,\"14.23\":12.51,\"1.71\":1.24,\"2.43\":2.25,\"15.6\":17.5,\"127\":85,\"2.8\":2.0,\"3.06\":0.58,\".28\":0.6,\"2.29\":1.25,\"5.64\":5.45,\"1.04\":0.75,\"3.92\":1.51,\"1065\":650},\"134\":{\"1\":3,\"14.23\":12.6,\"1.71\":2.46,\"2.43\":2.2,\"15.6\":18.5,\"127\":94,\"2.8\":1.62,\"3.06\":0.66,\".28\":0.63,\"2.29\":0.94,\"5.64\":7.1,\"1.04\":0.73,\"3.92\":1.58,\"1065\":695},\"135\":{\"1\":3,\"14.23\":12.25,\"1.71\":4.72,\"2.43\":2.54,\"15.6\":21.0,\"127\":89,\"2.8\":1.38,\"3.06\":0.47,\".28\":0.53,\"2.29\":0.8,\"5.64\":3.85,\"1.04\":0.75,\"3.92\":1.27,\"1065\":720},\"136\":{\"1\":3,\"14.23\":12.53,\"1.71\":5.51,\"2.43\":2.64,\"15.6\":25.0,\"127\":96,\"2.8\":1.79,\"3.06\":0.6,\".28\":0.63,\"2.29\":1.1,\"5.64\":5.0,\"1.04\":0.82,\"3.92\":1.69,\"1065\":515},\"137\":{\"1\":3,\"14.23\":13.49,\"1.71\":3.59,\"2.43\":2.19,\"15.6\":19.5,\"127\":88,\"2.8\":1.62,\"3.06\":0.48,\".28\":0.58,\"2.29\":0.88,\"5.64\":5.7,\"1.04\":0.81,\"3.92\":1.82,\"1065\":580},\"138\":{\"1\":3,\"14.23\":12.84,\"1.71\":2.96,\"2.43\":2.61,\"15.6\":24.0,\"127\":101,\"2.8\":2.32,\"3.06\":0.6,\".28\":0.53,\"2.29\":0.81,\"5.64\":4.92,\"1.04\":0.89,\"3.92\":2.15,\"1065\":590},\"139\":{\"1\":3,\"14.23\":12.93,\"1.71\":2.81,\"2.43\":2.7,\"15.6\":21.0,\"127\":96,\"2.8\":1.54,\"3.06\":0.5,\".28\":0.53,\"2.29\":0.75,\"5.64\":4.6,\"1.04\":0.77,\"3.92\":2.31,\"1065\":600},\"140\":{\"1\":3,\"14.23\":13.36,\"1.71\":2.56,\"2.43\":2.35,\"15.6\":20.0,\"127\":89,\"2.8\":1.4,\"3.06\":0.5,\".28\":0.37,\"2.29\":0.64,\"5.64\":5.6,\"1.04\":0.7,\"3.92\":2.47,\"1065\":780},\"141\":{\"1\":3,\"14.23\":13.52,\"1.71\":3.17,\"2.43\":2.72,\"15.6\":23.5,\"127\":97,\"2.8\":1.55,\"3.06\":0.52,\".28\":0.5,\"2.29\":0.55,\"5.64\":4.35,\"1.04\":0.89,\"3.92\":2.06,\"1065\":520},\"142\":{\"1\":3,\"14.23\":13.62,\"1.71\":4.95,\"2.43\":2.35,\"15.6\":20.0,\"127\":92,\"2.8\":2.0,\"3.06\":0.8,\".28\":0.47,\"2.29\":1.02,\"5.64\":4.4,\"1.04\":0.91,\"3.92\":2.05,\"1065\":550},\"143\":{\"1\":3,\"14.23\":12.25,\"1.71\":3.88,\"2.43\":2.2,\"15.6\":18.5,\"127\":112,\"2.8\":1.38,\"3.06\":0.78,\".28\":0.29,\"2.29\":1.14,\"5.64\":8.21,\"1.04\":0.65,\"3.92\":2.0,\"1065\":855},\"144\":{\"1\":3,\"14.23\":13.16,\"1.71\":3.57,\"2.43\":2.15,\"15.6\":21.0,\"127\":102,\"2.8\":1.5,\"3.06\":0.55,\".28\":0.43,\"2.29\":1.3,\"5.64\":4.0,\"1.04\":0.6,\"3.92\":1.68,\"1065\":830},\"145\":{\"1\":3,\"14.23\":13.88,\"1.71\":5.04,\"2.43\":2.23,\"15.6\":20.0,\"127\":80,\"2.8\":0.98,\"3.06\":0.34,\".28\":0.4,\"2.29\":0.68,\"5.64\":4.9,\"1.04\":0.58,\"3.92\":1.33,\"1065\":415},\"146\":{\"1\":3,\"14.23\":12.87,\"1.71\":4.61,\"2.43\":2.48,\"15.6\":21.5,\"127\":86,\"2.8\":1.7,\"3.06\":0.65,\".28\":0.47,\"2.29\":0.86,\"5.64\":7.65,\"1.04\":0.54,\"3.92\":1.86,\"1065\":625},\"147\":{\"1\":3,\"14.23\":13.32,\"1.71\":3.24,\"2.43\":2.38,\"15.6\":21.5,\"127\":92,\"2.8\":1.93,\"3.06\":0.76,\".28\":0.45,\"2.29\":1.25,\"5.64\":8.42,\"1.04\":0.55,\"3.92\":1.62,\"1065\":650},\"148\":{\"1\":3,\"14.23\":13.08,\"1.71\":3.9,\"2.43\":2.36,\"15.6\":21.5,\"127\":113,\"2.8\":1.41,\"3.06\":1.39,\".28\":0.34,\"2.29\":1.14,\"5.64\":9.4,\"1.04\":0.57,\"3.92\":1.33,\"1065\":550},\"149\":{\"1\":3,\"14.23\":13.5,\"1.71\":3.12,\"2.43\":2.62,\"15.6\":24.0,\"127\":123,\"2.8\":1.4,\"3.06\":1.57,\".28\":0.22,\"2.29\":1.25,\"5.64\":8.6,\"1.04\":0.59,\"3.92\":1.3,\"1065\":500},\"150\":{\"1\":3,\"14.23\":12.79,\"1.71\":2.67,\"2.43\":2.48,\"15.6\":22.0,\"127\":112,\"2.8\":1.48,\"3.06\":1.36,\".28\":0.24,\"2.29\":1.26,\"5.64\":10.8,\"1.04\":0.48,\"3.92\":1.47,\"1065\":480},\"151\":{\"1\":3,\"14.23\":13.11,\"1.71\":1.9,\"2.43\":2.75,\"15.6\":25.5,\"127\":116,\"2.8\":2.2,\"3.06\":1.28,\".28\":0.26,\"2.29\":1.56,\"5.64\":7.1,\"1.04\":0.61,\"3.92\":1.33,\"1065\":425},\"152\":{\"1\":3,\"14.23\":13.23,\"1.71\":3.3,\"2.43\":2.28,\"15.6\":18.5,\"127\":98,\"2.8\":1.8,\"3.06\":0.83,\".28\":0.61,\"2.29\":1.87,\"5.64\":10.52,\"1.04\":0.56,\"3.92\":1.51,\"1065\":675},\"153\":{\"1\":3,\"14.23\":12.58,\"1.71\":1.29,\"2.43\":2.1,\"15.6\":20.0,\"127\":103,\"2.8\":1.48,\"3.06\":0.58,\".28\":0.53,\"2.29\":1.4,\"5.64\":7.6,\"1.04\":0.58,\"3.92\":1.55,\"1065\":640},\"154\":{\"1\":3,\"14.23\":13.17,\"1.71\":5.19,\"2.43\":2.32,\"15.6\":22.0,\"127\":93,\"2.8\":1.74,\"3.06\":0.63,\".28\":0.61,\"2.29\":1.55,\"5.64\":7.9,\"1.04\":0.6,\"3.92\":1.48,\"1065\":725},\"155\":{\"1\":3,\"14.23\":13.84,\"1.71\":4.12,\"2.43\":2.38,\"15.6\":19.5,\"127\":89,\"2.8\":1.8,\"3.06\":0.83,\".28\":0.48,\"2.29\":1.56,\"5.64\":9.01,\"1.04\":0.57,\"3.92\":1.64,\"1065\":480},\"156\":{\"1\":3,\"14.23\":12.45,\"1.71\":3.03,\"2.43\":2.64,\"15.6\":27.0,\"127\":97,\"2.8\":1.9,\"3.06\":0.58,\".28\":0.63,\"2.29\":1.14,\"5.64\":7.5,\"1.04\":0.67,\"3.92\":1.73,\"1065\":880},\"157\":{\"1\":3,\"14.23\":14.34,\"1.71\":1.68,\"2.43\":2.7,\"15.6\":25.0,\"127\":98,\"2.8\":2.8,\"3.06\":1.31,\".28\":0.53,\"2.29\":2.7,\"5.64\":13.0,\"1.04\":0.57,\"3.92\":1.96,\"1065\":660},\"158\":{\"1\":3,\"14.23\":13.48,\"1.71\":1.67,\"2.43\":2.64,\"15.6\":22.5,\"127\":89,\"2.8\":2.6,\"3.06\":1.1,\".28\":0.52,\"2.29\":2.29,\"5.64\":11.75,\"1.04\":0.57,\"3.92\":1.78,\"1065\":620},\"159\":{\"1\":3,\"14.23\":12.36,\"1.71\":3.83,\"2.43\":2.38,\"15.6\":21.0,\"127\":88,\"2.8\":2.3,\"3.06\":0.92,\".28\":0.5,\"2.29\":1.04,\"5.64\":7.65,\"1.04\":0.56,\"3.92\":1.58,\"1065\":520},\"160\":{\"1\":3,\"14.23\":13.69,\"1.71\":3.26,\"2.43\":2.54,\"15.6\":20.0,\"127\":107,\"2.8\":1.83,\"3.06\":0.56,\".28\":0.5,\"2.29\":0.8,\"5.64\":5.88,\"1.04\":0.96,\"3.92\":1.82,\"1065\":680},\"161\":{\"1\":3,\"14.23\":12.85,\"1.71\":3.27,\"2.43\":2.58,\"15.6\":22.0,\"127\":106,\"2.8\":1.65,\"3.06\":0.6,\".28\":0.6,\"2.29\":0.96,\"5.64\":5.58,\"1.04\":0.87,\"3.92\":2.11,\"1065\":570},\"162\":{\"1\":3,\"14.23\":12.96,\"1.71\":3.45,\"2.43\":2.35,\"15.6\":18.5,\"127\":106,\"2.8\":1.39,\"3.06\":0.7,\".28\":0.4,\"2.29\":0.94,\"5.64\":5.28,\"1.04\":0.68,\"3.92\":1.75,\"1065\":675},\"163\":{\"1\":3,\"14.23\":13.78,\"1.71\":2.76,\"2.43\":2.3,\"15.6\":22.0,\"127\":90,\"2.8\":1.35,\"3.06\":0.68,\".28\":0.41,\"2.29\":1.03,\"5.64\":9.58,\"1.04\":0.7,\"3.92\":1.68,\"1065\":615},\"164\":{\"1\":3,\"14.23\":13.73,\"1.71\":4.36,\"2.43\":2.26,\"15.6\":22.5,\"127\":88,\"2.8\":1.28,\"3.06\":0.47,\".28\":0.52,\"2.29\":1.15,\"5.64\":6.62,\"1.04\":0.78,\"3.92\":1.75,\"1065\":520},\"165\":{\"1\":3,\"14.23\":13.45,\"1.71\":3.7,\"2.43\":2.6,\"15.6\":23.0,\"127\":111,\"2.8\":1.7,\"3.06\":0.92,\".28\":0.43,\"2.29\":1.46,\"5.64\":10.68,\"1.04\":0.85,\"3.92\":1.56,\"1065\":695},\"166\":{\"1\":3,\"14.23\":12.82,\"1.71\":3.37,\"2.43\":2.3,\"15.6\":19.5,\"127\":88,\"2.8\":1.48,\"3.06\":0.66,\".28\":0.4,\"2.29\":0.97,\"5.64\":10.26,\"1.04\":0.72,\"3.92\":1.75,\"1065\":685},\"167\":{\"1\":3,\"14.23\":13.58,\"1.71\":2.58,\"2.43\":2.69,\"15.6\":24.5,\"127\":105,\"2.8\":1.55,\"3.06\":0.84,\".28\":0.39,\"2.29\":1.54,\"5.64\":8.66,\"1.04\":0.74,\"3.92\":1.8,\"1065\":750},\"168\":{\"1\":3,\"14.23\":13.4,\"1.71\":4.6,\"2.43\":2.86,\"15.6\":25.0,\"127\":112,\"2.8\":1.98,\"3.06\":0.96,\".28\":0.27,\"2.29\":1.11,\"5.64\":8.5,\"1.04\":0.67,\"3.92\":1.92,\"1065\":630},\"169\":{\"1\":3,\"14.23\":12.2,\"1.71\":3.03,\"2.43\":2.32,\"15.6\":19.0,\"127\":96,\"2.8\":1.25,\"3.06\":0.49,\".28\":0.4,\"2.29\":0.73,\"5.64\":5.5,\"1.04\":0.66,\"3.92\":1.83,\"1065\":510},\"170\":{\"1\":3,\"14.23\":12.77,\"1.71\":2.39,\"2.43\":2.28,\"15.6\":19.5,\"127\":86,\"2.8\":1.39,\"3.06\":0.51,\".28\":0.48,\"2.29\":0.64,\"5.64\":9.899999,\"1.04\":0.57,\"3.92\":1.63,\"1065\":470},\"171\":{\"1\":3,\"14.23\":14.16,\"1.71\":2.51,\"2.43\":2.48,\"15.6\":20.0,\"127\":91,\"2.8\":1.68,\"3.06\":0.7,\".28\":0.44,\"2.29\":1.24,\"5.64\":9.7,\"1.04\":0.62,\"3.92\":1.71,\"1065\":660},\"172\":{\"1\":3,\"14.23\":13.71,\"1.71\":5.65,\"2.43\":2.45,\"15.6\":20.5,\"127\":95,\"2.8\":1.68,\"3.06\":0.61,\".28\":0.52,\"2.29\":1.06,\"5.64\":7.7,\"1.04\":0.64,\"3.92\":1.74,\"1065\":740},\"173\":{\"1\":3,\"14.23\":13.4,\"1.71\":3.91,\"2.43\":2.48,\"15.6\":23.0,\"127\":102,\"2.8\":1.8,\"3.06\":0.75,\".28\":0.43,\"2.29\":1.41,\"5.64\":7.3,\"1.04\":0.7,\"3.92\":1.56,\"1065\":750},\"174\":{\"1\":3,\"14.23\":13.27,\"1.71\":4.28,\"2.43\":2.26,\"15.6\":20.0,\"127\":120,\"2.8\":1.59,\"3.06\":0.69,\".28\":0.43,\"2.29\":1.35,\"5.64\":10.2,\"1.04\":0.59,\"3.92\":1.56,\"1065\":835},\"175\":{\"1\":3,\"14.23\":13.17,\"1.71\":2.59,\"2.43\":2.37,\"15.6\":20.0,\"127\":120,\"2.8\":1.65,\"3.06\":0.68,\".28\":0.53,\"2.29\":1.46,\"5.64\":9.3,\"1.04\":0.6,\"3.92\":1.62,\"1065\":840},\"176\":{\"1\":3,\"14.23\":14.13,\"1.71\":4.1,\"2.43\":2.74,\"15.6\":24.5,\"127\":96,\"2.8\":2.05,\"3.06\":0.76,\".28\":0.56,\"2.29\":1.35,\"5.64\":9.2,\"1.04\":0.61,\"3.92\":1.6,\"1065\":560}}'"
      ]
     },
     "execution_count": 66,
     "metadata": {},
     "output_type": "execute_result"
    }
   ],
   "source": [
    "djson.to_json(orient='index')"
   ]
  },
  {
   "cell_type": "code",
   "execution_count": 67,
   "metadata": {},
   "outputs": [],
   "source": [
    "df1.to_pickle('dfpickle')"
   ]
  },
  {
   "cell_type": "code",
   "execution_count": 68,
   "metadata": {},
   "outputs": [],
   "source": [
    "pickledf = pd.read_pickle('dfpickle')"
   ]
  },
  {
   "cell_type": "code",
   "execution_count": 69,
   "metadata": {},
   "outputs": [
    {
     "data": {
      "text/html": [
       "<div>\n",
       "<style scoped>\n",
       "    .dataframe tbody tr th:only-of-type {\n",
       "        vertical-align: middle;\n",
       "    }\n",
       "\n",
       "    .dataframe tbody tr th {\n",
       "        vertical-align: top;\n",
       "    }\n",
       "\n",
       "    .dataframe thead th {\n",
       "        text-align: right;\n",
       "    }\n",
       "</style>\n",
       "<table border=\"1\" class=\"dataframe\">\n",
       "  <thead>\n",
       "    <tr style=\"text-align: right;\">\n",
       "      <th></th>\n",
       "      <th>c1</th>\n",
       "      <th>c2</th>\n",
       "      <th>c3</th>\n",
       "      <th>c4</th>\n",
       "    </tr>\n",
       "  </thead>\n",
       "  <tbody>\n",
       "    <tr>\n",
       "      <th>r1</th>\n",
       "      <td>1</td>\n",
       "      <td>2</td>\n",
       "      <td>3</td>\n",
       "      <td>4</td>\n",
       "    </tr>\n",
       "    <tr>\n",
       "      <th>r2</th>\n",
       "      <td>5</td>\n",
       "      <td>6</td>\n",
       "      <td>7</td>\n",
       "      <td>8</td>\n",
       "    </tr>\n",
       "    <tr>\n",
       "      <th>r3</th>\n",
       "      <td>9</td>\n",
       "      <td>10</td>\n",
       "      <td>11</td>\n",
       "      <td>12</td>\n",
       "    </tr>\n",
       "    <tr>\n",
       "      <th>r4</th>\n",
       "      <td>13</td>\n",
       "      <td>14</td>\n",
       "      <td>15</td>\n",
       "      <td>16</td>\n",
       "    </tr>\n",
       "    <tr>\n",
       "      <th>r5</th>\n",
       "      <td>17</td>\n",
       "      <td>18</td>\n",
       "      <td>19</td>\n",
       "      <td>20</td>\n",
       "    </tr>\n",
       "  </tbody>\n",
       "</table>\n",
       "</div>"
      ],
      "text/plain": [
       "    c1  c2  c3  c4\n",
       "r1   1   2   3   4\n",
       "r2   5   6   7   8\n",
       "r3   9  10  11  12\n",
       "r4  13  14  15  16\n",
       "r5  17  18  19  20"
      ]
     },
     "execution_count": 69,
     "metadata": {},
     "output_type": "execute_result"
    }
   ],
   "source": [
    "pickledf.head()"
   ]
  },
  {
   "cell_type": "code",
   "execution_count": 72,
   "metadata": {},
   "outputs": [
    {
     "data": {
      "text/plain": [
       "(1216, 10)"
      ]
     },
     "execution_count": 72,
     "metadata": {},
     "output_type": "execute_result"
    }
   ],
   "source": [
    "df.shape"
   ]
  },
  {
   "cell_type": "code",
   "execution_count": 74,
   "metadata": {},
   "outputs": [
    {
     "name": "stdout",
     "output_type": "stream",
     "text": [
      "    Country / territory Measure Names Month of Date  Report Epi Week  \\\n",
      "0                 Aruba     Suspected       January                1   \n",
      "1                 Aruba    Confirmed        January                1   \n",
      "2                 Aruba     Suspected       January                2   \n",
      "3                 Aruba    Confirmed        January                2   \n",
      "4                 Aruba     Suspected       January                3   \n",
      "..                  ...           ...           ...              ...   \n",
      "995  Dominican Republic    Confirmed       December               52   \n",
      "996             Ecuador     Suspected      December               48   \n",
      "997             Ecuador    Confirmed       December               48   \n",
      "998             Ecuador     Suspected      December               49   \n",
      "999             Ecuador    Confirmed       December               49   \n",
      "\n",
      "     Year of Date Country / territory.1            Date Measure Values  \\\n",
      "0            2016                 Aruba   January, 2016              0   \n",
      "1            2016                 Aruba   January, 2016              0   \n",
      "2            2016                 Aruba   January, 2016              0   \n",
      "3            2016                 Aruba   January, 2016              0   \n",
      "4            2016                 Aruba   January, 2016              0   \n",
      "..            ...                   ...             ...            ...   \n",
      "995          2015    Dominican Republic  December, 2015              0   \n",
      "996          2015               Ecuador  December, 2015              0   \n",
      "997          2015               Ecuador  December, 2015              0   \n",
      "998          2015               Ecuador  December, 2015              0   \n",
      "999          2015               Ecuador  December, 2015              0   \n",
      "\n",
      "     Laboratory confirmed cases Suspected cases  \n",
      "0                             0               0  \n",
      "1                             0               0  \n",
      "2                             0               0  \n",
      "3                             0               0  \n",
      "4                             0               0  \n",
      "..                          ...             ...  \n",
      "995                           0               0  \n",
      "996                           0               0  \n",
      "997                           0               0  \n",
      "998                           0               0  \n",
      "999                           0               0  \n",
      "\n",
      "[1000 rows x 10 columns]\n",
      "     Country / territory Measure Names Month of Date  Report Epi Week  \\\n",
      "1000             Ecuador     Suspected      December               50   \n",
      "1001             Ecuador    Confirmed       December               50   \n",
      "1002             Ecuador     Suspected      December               51   \n",
      "1003             Ecuador    Confirmed       December               51   \n",
      "1004             Ecuador     Suspected      December               52   \n",
      "...                  ...           ...           ...              ...   \n",
      "1211           Venezuela    Confirmed       December               50   \n",
      "1212           Venezuela     Suspected      December               51   \n",
      "1213           Venezuela    Confirmed       December               51   \n",
      "1214           Venezuela     Suspected      December               52   \n",
      "1215           Venezuela    Confirmed       December               52   \n",
      "\n",
      "      Year of Date Country / territory.1            Date  Measure Values  \\\n",
      "1000          2015               Ecuador  December, 2015               0   \n",
      "1001          2015               Ecuador  December, 2015               0   \n",
      "1002          2015               Ecuador  December, 2015               0   \n",
      "1003          2015               Ecuador  December, 2015               0   \n",
      "1004          2015               Ecuador  December, 2015               0   \n",
      "...            ...                   ...             ...             ...   \n",
      "1211          2015             Venezuela  December, 2015               0   \n",
      "1212          2015             Venezuela  December, 2015               0   \n",
      "1213          2015             Venezuela  December, 2015               0   \n",
      "1214          2015             Venezuela  December, 2015               0   \n",
      "1215          2015             Venezuela  December, 2015               0   \n",
      "\n",
      "      Laboratory confirmed cases  Suspected cases  \n",
      "1000                           0                0  \n",
      "1001                           0                0  \n",
      "1002                           0                0  \n",
      "1003                           0                0  \n",
      "1004                           0                0  \n",
      "...                          ...              ...  \n",
      "1211                           0                0  \n",
      "1212                           0                0  \n",
      "1213                           0                0  \n",
      "1214                           0                0  \n",
      "1215                           0                0  \n",
      "\n",
      "[216 rows x 10 columns]\n"
     ]
    }
   ],
   "source": [
    "# Chunk Size\n",
    "chunk = pd.read_csv('https://raw.githubusercontent.com/BuzzFeedNews/zika-data/master/data/raw/paho-who/paho-who-cases-reported-2016-03-02.csv', chunksize=1000)\n",
    "for i in chunk:\n",
    "    print(i)"
   ]
  },
  {
   "cell_type": "code",
   "execution_count": 79,
   "metadata": {},
   "outputs": [
    {
     "ename": "StopIteration",
     "evalue": "",
     "output_type": "error",
     "traceback": [
      "\u001b[1;31m---------------------------------------------------------------------------\u001b[0m",
      "\u001b[1;31mStopIteration\u001b[0m                             Traceback (most recent call last)",
      "\u001b[1;32m<ipython-input-79-d38a485a8caf>\u001b[0m in \u001b[0;36m<module>\u001b[1;34m\u001b[0m\n\u001b[1;32m----> 1\u001b[1;33m \u001b[0mprint\u001b[0m\u001b[1;33m(\u001b[0m\u001b[0mchunk\u001b[0m\u001b[1;33m.\u001b[0m\u001b[0mread\u001b[0m\u001b[1;33m(\u001b[0m\u001b[1;36m10\u001b[0m\u001b[1;33m)\u001b[0m\u001b[1;33m)\u001b[0m\u001b[1;33m\u001b[0m\u001b[1;33m\u001b[0m\u001b[0m\n\u001b[0m",
      "\u001b[1;32m~\\anaconda3\\lib\\site-packages\\pandas\\io\\parsers.py\u001b[0m in \u001b[0;36mread\u001b[1;34m(self, nrows)\u001b[0m\n\u001b[0;32m   1194\u001b[0m     \u001b[1;32mdef\u001b[0m \u001b[0mread\u001b[0m\u001b[1;33m(\u001b[0m\u001b[0mself\u001b[0m\u001b[1;33m,\u001b[0m \u001b[0mnrows\u001b[0m\u001b[1;33m=\u001b[0m\u001b[1;32mNone\u001b[0m\u001b[1;33m)\u001b[0m\u001b[1;33m:\u001b[0m\u001b[1;33m\u001b[0m\u001b[1;33m\u001b[0m\u001b[0m\n\u001b[0;32m   1195\u001b[0m         \u001b[0mnrows\u001b[0m \u001b[1;33m=\u001b[0m \u001b[0m_validate_integer\u001b[0m\u001b[1;33m(\u001b[0m\u001b[1;34m\"nrows\"\u001b[0m\u001b[1;33m,\u001b[0m \u001b[0mnrows\u001b[0m\u001b[1;33m)\u001b[0m\u001b[1;33m\u001b[0m\u001b[1;33m\u001b[0m\u001b[0m\n\u001b[1;32m-> 1196\u001b[1;33m         \u001b[0mret\u001b[0m \u001b[1;33m=\u001b[0m \u001b[0mself\u001b[0m\u001b[1;33m.\u001b[0m\u001b[0m_engine\u001b[0m\u001b[1;33m.\u001b[0m\u001b[0mread\u001b[0m\u001b[1;33m(\u001b[0m\u001b[0mnrows\u001b[0m\u001b[1;33m)\u001b[0m\u001b[1;33m\u001b[0m\u001b[1;33m\u001b[0m\u001b[0m\n\u001b[0m\u001b[0;32m   1197\u001b[0m \u001b[1;33m\u001b[0m\u001b[0m\n\u001b[0;32m   1198\u001b[0m         \u001b[1;31m# May alter columns / col_dict\u001b[0m\u001b[1;33m\u001b[0m\u001b[1;33m\u001b[0m\u001b[1;33m\u001b[0m\u001b[0m\n",
      "\u001b[1;32m~\\anaconda3\\lib\\site-packages\\pandas\\io\\parsers.py\u001b[0m in \u001b[0;36mread\u001b[1;34m(self, nrows)\u001b[0m\n\u001b[0;32m   2153\u001b[0m     \u001b[1;32mdef\u001b[0m \u001b[0mread\u001b[0m\u001b[1;33m(\u001b[0m\u001b[0mself\u001b[0m\u001b[1;33m,\u001b[0m \u001b[0mnrows\u001b[0m\u001b[1;33m=\u001b[0m\u001b[1;32mNone\u001b[0m\u001b[1;33m)\u001b[0m\u001b[1;33m:\u001b[0m\u001b[1;33m\u001b[0m\u001b[1;33m\u001b[0m\u001b[0m\n\u001b[0;32m   2154\u001b[0m         \u001b[1;32mtry\u001b[0m\u001b[1;33m:\u001b[0m\u001b[1;33m\u001b[0m\u001b[1;33m\u001b[0m\u001b[0m\n\u001b[1;32m-> 2155\u001b[1;33m             \u001b[0mdata\u001b[0m \u001b[1;33m=\u001b[0m \u001b[0mself\u001b[0m\u001b[1;33m.\u001b[0m\u001b[0m_reader\u001b[0m\u001b[1;33m.\u001b[0m\u001b[0mread\u001b[0m\u001b[1;33m(\u001b[0m\u001b[0mnrows\u001b[0m\u001b[1;33m)\u001b[0m\u001b[1;33m\u001b[0m\u001b[1;33m\u001b[0m\u001b[0m\n\u001b[0m\u001b[0;32m   2156\u001b[0m         \u001b[1;32mexcept\u001b[0m \u001b[0mStopIteration\u001b[0m\u001b[1;33m:\u001b[0m\u001b[1;33m\u001b[0m\u001b[1;33m\u001b[0m\u001b[0m\n\u001b[0;32m   2157\u001b[0m             \u001b[1;32mif\u001b[0m \u001b[0mself\u001b[0m\u001b[1;33m.\u001b[0m\u001b[0m_first_chunk\u001b[0m\u001b[1;33m:\u001b[0m\u001b[1;33m\u001b[0m\u001b[1;33m\u001b[0m\u001b[0m\n",
      "\u001b[1;32mpandas\\_libs\\parsers.pyx\u001b[0m in \u001b[0;36mpandas._libs.parsers.TextReader.read\u001b[1;34m()\u001b[0m\n",
      "\u001b[1;32mpandas\\_libs\\parsers.pyx\u001b[0m in \u001b[0;36mpandas._libs.parsers.TextReader._read_low_memory\u001b[1;34m()\u001b[0m\n",
      "\u001b[1;31mStopIteration\u001b[0m: "
     ]
    }
   ],
   "source": [
    "print(chunk.read(10))"
   ]
  },
  {
   "cell_type": "code",
   "execution_count": 80,
   "metadata": {},
   "outputs": [
    {
     "name": "stdout",
     "output_type": "stream",
     "text": [
      ",c1,c2,c3,c4\r\n",
      "r1,1,2,3,4\r\n",
      "r2,5,6,7,8\r\n",
      "r3,9,10,11,12\r\n",
      "r4,13,14,15,16\r\n",
      "r5,17,18,19,20\r\n"
     ]
    }
   ],
   "source": [
    "import sys\n",
    "df1.to_csv(sys.stdout, na_rep='NULL')"
   ]
  },
  {
   "cell_type": "code",
   "execution_count": 84,
   "metadata": {},
   "outputs": [
    {
     "data": {
      "text/plain": [
       "DatetimeIndex(['2015-01-31', '2015-03-31', '2015-05-31', '2015-07-31',\n",
       "               '2015-09-30', '2015-11-30', '2016-01-31', '2016-03-31',\n",
       "               '2016-05-31', '2016-07-31'],\n",
       "              dtype='datetime64[ns]', freq='2M')"
      ]
     },
     "execution_count": 84,
     "metadata": {},
     "output_type": "execute_result"
    }
   ],
   "source": [
    "dates = pd.date_range(start='1/12/2015',periods=10, freq='2M')\n",
    "dates"
   ]
  },
  {
   "cell_type": "code",
   "execution_count": 86,
   "metadata": {},
   "outputs": [],
   "source": [
    "#!cat tseries.csv - In Linux and Mac\n",
    "#for windows - !type tseries.csv"
   ]
  },
  {
   "cell_type": "code",
   "execution_count": 87,
   "metadata": {},
   "outputs": [
    {
     "data": {
      "text/plain": [
       "<_io.TextIOWrapper name='examples/ex7.csv' mode='r' encoding='cp1252'>"
      ]
     },
     "execution_count": 87,
     "metadata": {},
     "output_type": "execute_result"
    }
   ],
   "source": [
    "import csv\n",
    "f = open('examples/ex7.csv')\n",
    "f"
   ]
  },
  {
   "cell_type": "code",
   "execution_count": 88,
   "metadata": {},
   "outputs": [
    {
     "data": {
      "text/plain": [
       "<_csv.reader at 0x1bb7c9e7dc0>"
      ]
     },
     "execution_count": 88,
     "metadata": {},
     "output_type": "execute_result"
    }
   ],
   "source": [
    "reader = csv.reader(f)\n",
    "reader"
   ]
  },
  {
   "cell_type": "code",
   "execution_count": 89,
   "metadata": {},
   "outputs": [
    {
     "name": "stdout",
     "output_type": "stream",
     "text": [
      "['a', 'b', 'c']\n",
      "['1', '2', '3']\n",
      "['1', '2', '3']\n"
     ]
    }
   ],
   "source": [
    "for line in reader:\n",
    "    print(line)"
   ]
  },
  {
   "cell_type": "code",
   "execution_count": 91,
   "metadata": {},
   "outputs": [
    {
     "data": {
      "text/plain": [
       "{'a': ('1', '1'), 'b': ('2', '2'), 'c': ('3', '3')}"
      ]
     },
     "execution_count": 91,
     "metadata": {},
     "output_type": "execute_result"
    }
   ],
   "source": [
    "with open('examples/ex7.csv') as f:\n",
    "    lines = list(csv.reader(f))\n",
    "header, values = lines[0], lines[1:]\n",
    "data_dict = {h: v for h,v in zip(header, zip(*values))}\n",
    "data_dict"
   ]
  },
  {
   "cell_type": "code",
   "execution_count": 92,
   "metadata": {},
   "outputs": [
    {
     "data": {
      "text/plain": [
       "str"
      ]
     },
     "execution_count": 92,
     "metadata": {},
     "output_type": "execute_result"
    }
   ],
   "source": [
    "#create JSON Object\n",
    "obj = \"\"\"\n",
    "{\n",
    "\"name\":\"Anoop\",\n",
    "\"place\":[\"Lucknow\",\"Noida\",\"Pune\"],\n",
    "\"pet\":null,\n",
    "\"siblings\":[{\"name\":\"Durgesh\", \"age\":40, \"pets\":[\"hari\",\"fulki\"]},\n",
    "            {\"name\":\"Anuradha\", \"age\":40, \"pets\":null}]\n",
    "}\"\"\"\n",
    "type(obj)"
   ]
  },
  {
   "cell_type": "code",
   "execution_count": 93,
   "metadata": {},
   "outputs": [
    {
     "data": {
      "text/plain": [
       "{'name': 'Anoop',\n",
       " 'place': ['Lucknow', 'Noida', 'Pune'],\n",
       " 'pet': None,\n",
       " 'siblings': [{'name': 'Durgesh', 'age': 40, 'pets': ['hari', 'fulki']},\n",
       "  {'name': 'Anuradha', 'age': 40, 'pets': None}]}"
      ]
     },
     "execution_count": 93,
     "metadata": {},
     "output_type": "execute_result"
    }
   ],
   "source": [
    "import json\n",
    "result = json.loads(obj)\n",
    "result"
   ]
  },
  {
   "cell_type": "code",
   "execution_count": 94,
   "metadata": {},
   "outputs": [
    {
     "data": {
      "text/html": [
       "<div>\n",
       "<style scoped>\n",
       "    .dataframe tbody tr th:only-of-type {\n",
       "        vertical-align: middle;\n",
       "    }\n",
       "\n",
       "    .dataframe tbody tr th {\n",
       "        vertical-align: top;\n",
       "    }\n",
       "\n",
       "    .dataframe thead th {\n",
       "        text-align: right;\n",
       "    }\n",
       "</style>\n",
       "<table border=\"1\" class=\"dataframe\">\n",
       "  <thead>\n",
       "    <tr style=\"text-align: right;\">\n",
       "      <th></th>\n",
       "      <th>name</th>\n",
       "      <th>age</th>\n",
       "      <th>pets</th>\n",
       "    </tr>\n",
       "  </thead>\n",
       "  <tbody>\n",
       "    <tr>\n",
       "      <th>0</th>\n",
       "      <td>Durgesh</td>\n",
       "      <td>40</td>\n",
       "      <td>[hari, fulki]</td>\n",
       "    </tr>\n",
       "    <tr>\n",
       "      <th>1</th>\n",
       "      <td>Anuradha</td>\n",
       "      <td>40</td>\n",
       "      <td>None</td>\n",
       "    </tr>\n",
       "  </tbody>\n",
       "</table>\n",
       "</div>"
      ],
      "text/plain": [
       "       name  age           pets\n",
       "0   Durgesh   40  [hari, fulki]\n",
       "1  Anuradha   40           None"
      ]
     },
     "execution_count": 94,
     "metadata": {},
     "output_type": "execute_result"
    }
   ],
   "source": [
    "asjson = json.dumps(result)\n",
    "siblings = pd.DataFrame(result['siblings'], columns=['name','age','pets'])\n",
    "siblings"
   ]
  },
  {
   "cell_type": "code",
   "execution_count": 95,
   "metadata": {},
   "outputs": [
    {
     "data": {
      "text/plain": [
       "['Lucknow', 'Noida', 'Pune']"
      ]
     },
     "execution_count": 95,
     "metadata": {},
     "output_type": "execute_result"
    }
   ],
   "source": [
    "result['place']"
   ]
  },
  {
   "cell_type": "code",
   "execution_count": 96,
   "metadata": {},
   "outputs": [
    {
     "data": {
      "text/html": [
       "<div>\n",
       "<style scoped>\n",
       "    .dataframe tbody tr th:only-of-type {\n",
       "        vertical-align: middle;\n",
       "    }\n",
       "\n",
       "    .dataframe tbody tr th {\n",
       "        vertical-align: top;\n",
       "    }\n",
       "\n",
       "    .dataframe thead th {\n",
       "        text-align: right;\n",
       "    }\n",
       "</style>\n",
       "<table border=\"1\" class=\"dataframe\">\n",
       "  <thead>\n",
       "    <tr style=\"text-align: right;\">\n",
       "      <th></th>\n",
       "      <th>name</th>\n",
       "      <th>age</th>\n",
       "    </tr>\n",
       "  </thead>\n",
       "  <tbody>\n",
       "    <tr>\n",
       "      <th>0</th>\n",
       "      <td>Durgesh</td>\n",
       "      <td>40</td>\n",
       "    </tr>\n",
       "    <tr>\n",
       "      <th>1</th>\n",
       "      <td>Anuradha</td>\n",
       "      <td>40</td>\n",
       "    </tr>\n",
       "  </tbody>\n",
       "</table>\n",
       "</div>"
      ],
      "text/plain": [
       "       name  age\n",
       "0   Durgesh   40\n",
       "1  Anuradha   40"
      ]
     },
     "execution_count": 96,
     "metadata": {},
     "output_type": "execute_result"
    }
   ],
   "source": [
    "siblings1 = pd.DataFrame(result['siblings'], columns=['name','age'])\n",
    "siblings1"
   ]
  },
  {
   "cell_type": "code",
   "execution_count": 107,
   "metadata": {},
   "outputs": [],
   "source": [
    "tmps = pd.to_datetime(df['Date'])"
   ]
  },
  {
   "cell_type": "code",
   "execution_count": 105,
   "metadata": {},
   "outputs": [
    {
     "data": {
      "text/plain": [
       "2016"
      ]
     },
     "execution_count": 105,
     "metadata": {},
     "output_type": "execute_result"
    }
   ],
   "source": [
    "pd.to_datetime(df['Date'])[0].date().year"
   ]
  },
  {
   "cell_type": "code",
   "execution_count": 109,
   "metadata": {},
   "outputs": [
    {
     "data": {
      "text/plain": [
       "2015    808\n",
       "2016    408\n",
       "Name: Date, dtype: int64"
      ]
     },
     "execution_count": 109,
     "metadata": {},
     "output_type": "execute_result"
    }
   ],
   "source": [
    "tmps.dt.year.value_counts()"
   ]
  },
  {
   "cell_type": "markdown",
   "metadata": {},
   "source": [
    "# Binary Data Formats"
   ]
  },
  {
   "cell_type": "code",
   "execution_count": 111,
   "metadata": {},
   "outputs": [],
   "source": [
    "frame = pd.read_csv('examples/ex1.csv')\n",
    "frame\n",
    "frame.to_pickle('frame_pickle')"
   ]
  },
  {
   "cell_type": "code",
   "execution_count": 112,
   "metadata": {},
   "outputs": [
    {
     "data": {
      "text/html": [
       "<div>\n",
       "<style scoped>\n",
       "    .dataframe tbody tr th:only-of-type {\n",
       "        vertical-align: middle;\n",
       "    }\n",
       "\n",
       "    .dataframe tbody tr th {\n",
       "        vertical-align: top;\n",
       "    }\n",
       "\n",
       "    .dataframe thead th {\n",
       "        text-align: right;\n",
       "    }\n",
       "</style>\n",
       "<table border=\"1\" class=\"dataframe\">\n",
       "  <thead>\n",
       "    <tr style=\"text-align: right;\">\n",
       "      <th></th>\n",
       "      <th>a</th>\n",
       "      <th>b</th>\n",
       "      <th>c</th>\n",
       "      <th>d</th>\n",
       "      <th>message</th>\n",
       "    </tr>\n",
       "  </thead>\n",
       "  <tbody>\n",
       "    <tr>\n",
       "      <th>0</th>\n",
       "      <td>1</td>\n",
       "      <td>2</td>\n",
       "      <td>3</td>\n",
       "      <td>4</td>\n",
       "      <td>hello</td>\n",
       "    </tr>\n",
       "    <tr>\n",
       "      <th>1</th>\n",
       "      <td>5</td>\n",
       "      <td>6</td>\n",
       "      <td>7</td>\n",
       "      <td>8</td>\n",
       "      <td>world</td>\n",
       "    </tr>\n",
       "    <tr>\n",
       "      <th>2</th>\n",
       "      <td>9</td>\n",
       "      <td>10</td>\n",
       "      <td>11</td>\n",
       "      <td>12</td>\n",
       "      <td>foo</td>\n",
       "    </tr>\n",
       "  </tbody>\n",
       "</table>\n",
       "</div>"
      ],
      "text/plain": [
       "   a   b   c   d message\n",
       "0  1   2   3   4   hello\n",
       "1  5   6   7   8   world\n",
       "2  9  10  11  12     foo"
      ]
     },
     "execution_count": 112,
     "metadata": {},
     "output_type": "execute_result"
    }
   ],
   "source": [
    "pd.read_pickle('frame_pickle')"
   ]
  },
  {
   "cell_type": "code",
   "execution_count": 113,
   "metadata": {},
   "outputs": [
    {
     "name": "stderr",
     "output_type": "stream",
     "text": [
      "'rm' is not recognized as an internal or external command,\n",
      "operable program or batch file.\n"
     ]
    }
   ],
   "source": [
    "!rm frame_pickle"
   ]
  },
  {
   "cell_type": "markdown",
   "metadata": {},
   "source": [
    "# Using HDF5 Format"
   ]
  },
  {
   "cell_type": "code",
   "execution_count": null,
   "metadata": {},
   "outputs": [],
   "source": [
    "#frame1 = pd.DataFrame({'a'})read_csv('examples/ex1.csv')"
   ]
  }
 ],
 "metadata": {
  "kernelspec": {
   "display_name": "Python 3",
   "language": "python",
   "name": "python3"
  },
  "language_info": {
   "codemirror_mode": {
    "name": "ipython",
    "version": 3
   },
   "file_extension": ".py",
   "mimetype": "text/x-python",
   "name": "python",
   "nbconvert_exporter": "python",
   "pygments_lexer": "ipython3",
   "version": "3.8.5"
  }
 },
 "nbformat": 4,
 "nbformat_minor": 4
}
